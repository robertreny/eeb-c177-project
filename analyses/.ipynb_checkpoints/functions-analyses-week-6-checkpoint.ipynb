{
 "cells": [
  {
   "cell_type": "code",
   "execution_count": 1,
   "metadata": {},
   "outputs": [],
   "source": [
    "import numpy as np\n",
    "import warnings\n",
    "warnings.simplefilter(action = 'ignore', category = FutureWarning)\n",
    "import pandas as pd\n",
    "import matplotlib.pyplot as plt\n",
    "from collections import defaultdict\n",
    "import re"
   ]
  },
  {
   "cell_type": "code",
   "execution_count": 2,
   "metadata": {},
   "outputs": [
    {
     "name": "stderr",
     "output_type": "stream",
     "text": [
      "b'Skipping line 181: expected 16 fields, saw 26\\nSkipping line 182: expected 16 fields, saw 26\\nSkipping line 183: expected 16 fields, saw 26\\nSkipping line 184: expected 16 fields, saw 26\\nSkipping line 185: expected 16 fields, saw 26\\nSkipping line 186: expected 16 fields, saw 26\\nSkipping line 187: expected 16 fields, saw 26\\nSkipping line 188: expected 16 fields, saw 26\\nSkipping line 189: expected 16 fields, saw 26\\nSkipping line 190: expected 16 fields, saw 26\\nSkipping line 191: expected 16 fields, saw 26\\nSkipping line 192: expected 16 fields, saw 26\\nSkipping line 193: expected 16 fields, saw 26\\n'\n"
     ]
    }
   ],
   "source": [
    "data = pd.read_csv('hourly(2).csv', error_bad_lines=False, parse_dates = [['Date', 'Hour (PST)']])"
   ]
  },
  {
   "cell_type": "markdown",
   "metadata": {},
   "source": [
    "# Part 1"
   ]
  },
  {
   "cell_type": "code",
   "execution_count": 128,
   "metadata": {
    "scrolled": false
   },
   "outputs": [
    {
     "name": "stdout",
     "output_type": "stream",
     "text": [
      "    Date_Hour (PST)  Stn Id             Stn Name  CIMIS Region  Jul  ETo (in)  \\\n",
      "0     2/5/2020 0100     113  King City-Oasis Rd.  Monterey Bay   36      0.00   \n",
      "1     2/5/2020 0200     113  King City-Oasis Rd.  Monterey Bay   36      0.00   \n",
      "2     2/5/2020 0300     113  King City-Oasis Rd.  Monterey Bay   36      0.00   \n",
      "3     2/5/2020 0400     113  King City-Oasis Rd.  Monterey Bay   36      0.00   \n",
      "4     2/5/2020 0500     113  King City-Oasis Rd.  Monterey Bay   36      0.00   \n",
      "..              ...     ...                  ...           ...  ...       ...   \n",
      "174  2/12/2020 0700     113  King City-Oasis Rd.  Monterey Bay   43      0.00   \n",
      "175  2/12/2020 0800     113  King City-Oasis Rd.  Monterey Bay   43      0.00   \n",
      "176  2/12/2020 0900     113  King City-Oasis Rd.  Monterey Bay   43      0.00   \n",
      "177  2/12/2020 1000     113  King City-Oasis Rd.  Monterey Bay   43      0.01   \n",
      "178  2/12/2020 1100     113  King City-Oasis Rd.  Monterey Bay   43      0.01   \n",
      "\n",
      "     Precip (in)  Sol Rad (Ly/day)  Vap Pres (mBars)  Air Temp (F)  \\\n",
      "0            0.0                 0               4.6          33.0   \n",
      "1            0.0                 0               4.5          32.2   \n",
      "2            0.0                 0               4.5          29.6   \n",
      "3            0.0                 0               4.6          29.4   \n",
      "4            0.0                 0               4.3          28.9   \n",
      "..           ...               ...               ...           ...   \n",
      "174          0.0                 1               6.2          35.8   \n",
      "175          0.0               112               6.4          36.4   \n",
      "176          0.0               375               7.6          44.1   \n",
      "177          0.0               647               8.1          51.8   \n",
      "178          0.0               871               8.0          57.0   \n",
      "\n",
      "     Rel Hum (%)  Dew Point (F)  Wind Speed (mph)  Wind Dir (0-360)  \\\n",
      "0             72           25.1               2.1               159   \n",
      "1             73           24.4               3.0               152   \n",
      "2             81           24.6               1.6               169   \n",
      "3             83           24.8               2.4               167   \n",
      "4             81           23.7               4.3               140   \n",
      "..           ...            ...               ...               ...   \n",
      "174           88           32.5               2.2               158   \n",
      "175           88           33.1               2.6               182   \n",
      "176           77           37.4               4.5               150   \n",
      "177           62           39.2               5.8               131   \n",
      "178           50           38.8               5.5               146   \n",
      "\n",
      "     Soil Temp (F)  \n",
      "0             51.1  \n",
      "1             51.1  \n",
      "2             51.0  \n",
      "3             51.0  \n",
      "4             51.0  \n",
      "..             ...  \n",
      "174           50.9  \n",
      "175           50.9  \n",
      "176           50.9  \n",
      "177           50.9  \n",
      "178           50.9  \n",
      "\n",
      "[179 rows x 15 columns]\n"
     ]
    }
   ],
   "source": [
    "KingCitydata2020 = data.loc[data['Stn Id'] == 113] #select all rows with pomona as station (78)\n",
    "print(KingCitydata2020) "
   ]
  },
  {
   "cell_type": "code",
   "execution_count": 129,
   "metadata": {
    "scrolled": true
   },
   "outputs": [
    {
     "name": "stdout",
     "output_type": "stream",
     "text": [
      "     Sol Rad (Ly/day)             Stn Name\n",
      "6                   1  King City-Oasis Rd.\n",
      "7                  69  King City-Oasis Rd.\n",
      "8                 303  King City-Oasis Rd.\n",
      "9                 484  King City-Oasis Rd.\n",
      "10                807  King City-Oasis Rd.\n",
      "..                ...                  ...\n",
      "174                 1  King City-Oasis Rd.\n",
      "175               112  King City-Oasis Rd.\n",
      "176               375  King City-Oasis Rd.\n",
      "177               647  King City-Oasis Rd.\n",
      "178               871  King City-Oasis Rd.\n",
      "\n",
      "[87 rows x 2 columns]\n"
     ]
    }
   ],
   "source": [
    "KingCitydata2020days = KingCitydata2020.loc[(KingCitydata2020['Sol Rad (Ly/day)'] > 0) & (KingCitydata2020['Precip (in)'] == 0),['Sol Rad (Ly/day)', 'Stn Name']]\n",
    "#selecting multiple conditions and print only the columns following the last condition\n",
    "print(KingCitydata2020days)"
   ]
  },
  {
   "cell_type": "code",
   "execution_count": 130,
   "metadata": {},
   "outputs": [],
   "source": [
    "KingCitydata2020light = KingCitydata2020.loc[KingCitydata2020['Sol Rad (Ly/day)'] > 0]\n",
    "KingCitydata2020dark = KingCitydata2020.loc[KingCitydata2020['Sol Rad (Ly/day)'] == 0]"
   ]
  },
  {
   "cell_type": "code",
   "execution_count": 131,
   "metadata": {},
   "outputs": [
    {
     "name": "stdout",
     "output_type": "stream",
     "text": [
      "    Date_Hour (PST)  Stn Id             Stn Name  CIMIS Region  Jul  ETo (in)  \\\n",
      "6     2/5/2020 0700     113  King City-Oasis Rd.  Monterey Bay   36      0.00   \n",
      "7     2/5/2020 0800     113  King City-Oasis Rd.  Monterey Bay   36      0.00   \n",
      "8     2/5/2020 0900     113  King City-Oasis Rd.  Monterey Bay   36      0.00   \n",
      "9     2/5/2020 1000     113  King City-Oasis Rd.  Monterey Bay   36      0.00   \n",
      "10    2/5/2020 1100     113  King City-Oasis Rd.  Monterey Bay   36      0.01   \n",
      "..              ...     ...                  ...           ...  ...       ...   \n",
      "174  2/12/2020 0700     113  King City-Oasis Rd.  Monterey Bay   43      0.00   \n",
      "175  2/12/2020 0800     113  King City-Oasis Rd.  Monterey Bay   43      0.00   \n",
      "176  2/12/2020 0900     113  King City-Oasis Rd.  Monterey Bay   43      0.00   \n",
      "177  2/12/2020 1000     113  King City-Oasis Rd.  Monterey Bay   43      0.01   \n",
      "178  2/12/2020 1100     113  King City-Oasis Rd.  Monterey Bay   43      0.01   \n",
      "\n",
      "     Precip (in)  Sol Rad (Ly/day)  Vap Pres (mBars)  Air Temp (F)  \\\n",
      "6            0.0                 1               4.4          28.5   \n",
      "7            0.0                69               4.5          28.8   \n",
      "8            0.0               303               5.0          35.9   \n",
      "9            0.0               484               5.3          40.2   \n",
      "10           0.0               807               5.8          49.6   \n",
      "..           ...               ...               ...           ...   \n",
      "174          0.0                 1               6.2          35.8   \n",
      "175          0.0               112               6.4          36.4   \n",
      "176          0.0               375               7.6          44.1   \n",
      "177          0.0               647               8.1          51.8   \n",
      "178          0.0               871               8.0          57.0   \n",
      "\n",
      "     Rel Hum (%)  Dew Point (F)  Wind Speed (mph)  Wind Dir (0-360)  \\\n",
      "6             83           24.0               2.5               143   \n",
      "7             84           24.7               2.2               180   \n",
      "8             70           27.0               3.1               131   \n",
      "9             62           28.4               4.1               143   \n",
      "10            48           30.9               3.1               143   \n",
      "..           ...            ...               ...               ...   \n",
      "174           88           32.5               2.2               158   \n",
      "175           88           33.1               2.6               182   \n",
      "176           77           37.4               4.5               150   \n",
      "177           62           39.2               5.8               131   \n",
      "178           50           38.8               5.5               146   \n",
      "\n",
      "     Soil Temp (F)  \n",
      "6             50.9  \n",
      "7             50.9  \n",
      "8             50.9  \n",
      "9             50.8  \n",
      "10            50.8  \n",
      "..             ...  \n",
      "174           50.9  \n",
      "175           50.9  \n",
      "176           50.9  \n",
      "177           50.9  \n",
      "178           50.9  \n",
      "\n",
      "[87 rows x 15 columns]\n",
      "55.045977011494266\n"
     ]
    }
   ],
   "source": [
    "print(KingCitydata2020light)\n",
    "averagedaytemp = np.mean(KingCitydata2020light['Air Temp (F)'], axis = 0)\n",
    "print(averagedaytemp)"
   ]
  },
  {
   "cell_type": "code",
   "execution_count": 132,
   "metadata": {},
   "outputs": [
    {
     "data": {
      "text/plain": [
       "[<matplotlib.lines.Line2D at 0x7fefa61d58d0>]"
      ]
     },
     "execution_count": 132,
     "metadata": {},
     "output_type": "execute_result"
    },
    {
     "data": {
      "image/png": "[encoded data removed]",
      "text/plain": [
       "<Figure size 432x288 with 1 Axes>"
      ]
     },
     "metadata": {
      "needs_background": "light"
     },
     "output_type": "display_data"
    }
   ],
   "source": [
    "plt.plot(KingCitydata2020light['Date_Hour (PST)'], KingCitydata2020light['Air Temp (F)']) \n",
    "# plot of temp over time, in this case only light data"
   ]
  },
  {
   "cell_type": "code",
   "execution_count": 133,
   "metadata": {},
   "outputs": [
    {
     "ename": "TypeError",
     "evalue": "where() missing 1 required positional argument: 'condition'",
     "output_type": "error",
     "traceback": [
      "\u001b[0;31m---------------------------------------------------------------------------\u001b[0m",
      "\u001b[0;31mTypeError\u001b[0m                                 Traceback (most recent call last)",
      "\u001b[0;32m<ipython-input-133-6d6020d579fa>\u001b[0m in \u001b[0;36m<module>\u001b[0;34m\u001b[0m\n\u001b[0;32m----> 1\u001b[0;31m \u001b[0mdata\u001b[0m\u001b[0;34m[\u001b[0m\u001b[0;34m'temp_difference'\u001b[0m\u001b[0;34m]\u001b[0m \u001b[0;34m=\u001b[0m \u001b[0mnp\u001b[0m\u001b[0;34m.\u001b[0m\u001b[0mwhere\u001b[0m\u001b[0;34m(\u001b[0m\u001b[0;34m)\u001b[0m\u001b[0;34m\u001b[0m\u001b[0;34m\u001b[0m\u001b[0m\n\u001b[0m",
      "\u001b[0;32m<__array_function__ internals>\u001b[0m in \u001b[0;36mwhere\u001b[0;34m(*args, **kwargs)\u001b[0m\n",
      "\u001b[0;31mTypeError\u001b[0m: where() missing 1 required positional argument: 'condition'"
     ]
    }
   ],
   "source": [
    "data['temp_difference'] = np.where()"
   ]
  },
  {
   "cell_type": "code",
   "execution_count": 3,
   "metadata": {},
   "outputs": [],
   "source": [
    "def plotting_light_dark_tempscimis(filename, stationID):\n",
    "    ''' Return plots of temp over time.\n",
    "    First loads in data, error_bad_lines = False ignores bad lines, parse_dates combines date and hour columns into single column\n",
    "    Second selects only data referring to stationID\n",
    "    Creates two subsets from above using sol radiance > 0 or =0\n",
    "    finally plots first using a empty fig, leaving in third plot for future\n",
    "    Want to add in third plot of soil vs air temp\n",
    "    \n",
    "    @param filename = n-dimensional array of values\n",
    "    @param stationID = stationID of location of interest\n",
    "    \n",
    "    Examples\n",
    "    ----------\n",
    "    >>>>>>>>> \n",
    "    ''' \n",
    "    data = pd.read_csv(filename, error_bad_lines=False, parse_dates = [['Date', 'Hour (PST)']])\n",
    "    specificcity = data.loc[data['Stn Id'] == stationID]\n",
    "    specificcitylighttemps = specificcity.loc[specificcity['Sol Rad (Ly/day)'] > 0]\n",
    "    specificcitydarktemps = specificcity.loc[specificcity['Sol Rad (Ly/day)'] == 0]\n",
    "    specificcitydarktemps['difference'] = specificcitydarktemps['Air Temp (F)'] - specificcitydarktemps['Soil Temp (F)']\n",
    "    warnings.simplefilter(action = 'ignore', category = FutureWarning) #ignorning future warning not sure what it is\n",
    "    fig = plt.figure(figsize = (10.0, 3.0))\n",
    "    axes1 = fig.add_subplot(1,3,1) \n",
    "    axes2 = fig.add_subplot(1,3,2)\n",
    "    axes3 = fig.add_subplot(1,3,3)\n",
    "    axes1.plot(specificcitylighttemps['Date_Hour (PST)'], specificcitylighttemps['Air Temp (F)'])\n",
    "    axes2.plot(specificcitydarktemps['Date_Hour (PST)'], specificcitydarktemps['Air Temp (F)'])\n",
    "    axes3.plot(specificcitydarktemps['Date_Hour (PST)'], specificcitydarktemps['difference'])\n",
    "    plt.show()"
   ]
  },
  {
   "cell_type": "code",
   "execution_count": 10,
   "metadata": {
    "scrolled": true
   },
   "outputs": [
    {
     "name": "stdout",
     "output_type": "stream",
     "text": [
      "    Date_Hour (PST)  Stn Id             Stn Name  CIMIS Region  Jul  ETo (in)  \\\n",
      "0     2/5/2020 0100     113  King City-Oasis Rd.  Monterey Bay   36      0.00   \n",
      "1     2/5/2020 0200     113  King City-Oasis Rd.  Monterey Bay   36      0.00   \n",
      "2     2/5/2020 0300     113  King City-Oasis Rd.  Monterey Bay   36      0.00   \n",
      "3     2/5/2020 0400     113  King City-Oasis Rd.  Monterey Bay   36      0.00   \n",
      "4     2/5/2020 0500     113  King City-Oasis Rd.  Monterey Bay   36      0.00   \n",
      "..              ...     ...                  ...           ...  ...       ...   \n",
      "174  2/12/2020 0700     113  King City-Oasis Rd.  Monterey Bay   43      0.00   \n",
      "175  2/12/2020 0800     113  King City-Oasis Rd.  Monterey Bay   43      0.00   \n",
      "176  2/12/2020 0900     113  King City-Oasis Rd.  Monterey Bay   43      0.00   \n",
      "177  2/12/2020 1000     113  King City-Oasis Rd.  Monterey Bay   43      0.01   \n",
      "178  2/12/2020 1100     113  King City-Oasis Rd.  Monterey Bay   43      0.01   \n",
      "\n",
      "     Precip (in)  Sol Rad (Ly/day)  Vap Pres (mBars)  Air Temp (F)  \\\n",
      "0            0.0                 0               4.6          33.0   \n",
      "1            0.0                 0               4.5          32.2   \n",
      "2            0.0                 0               4.5          29.6   \n",
      "3            0.0                 0               4.6          29.4   \n",
      "4            0.0                 0               4.3          28.9   \n",
      "..           ...               ...               ...           ...   \n",
      "174          0.0                 1               6.2          35.8   \n",
      "175          0.0               112               6.4          36.4   \n",
      "176          0.0               375               7.6          44.1   \n",
      "177          0.0               647               8.1          51.8   \n",
      "178          0.0               871               8.0          57.0   \n",
      "\n",
      "     Rel Hum (%)  Dew Point (F)  Wind Speed (mph)  Wind Dir (0-360)  \\\n",
      "0             72           25.1               2.1               159   \n",
      "1             73           24.4               3.0               152   \n",
      "2             81           24.6               1.6               169   \n",
      "3             83           24.8               2.4               167   \n",
      "4             81           23.7               4.3               140   \n",
      "..           ...            ...               ...               ...   \n",
      "174           88           32.5               2.2               158   \n",
      "175           88           33.1               2.6               182   \n",
      "176           77           37.4               4.5               150   \n",
      "177           62           39.2               5.8               131   \n",
      "178           50           38.8               5.5               146   \n",
      "\n",
      "     Soil Temp (F)  diff  diff/solrad  \n",
      "0             51.1 -18.1         -inf  \n",
      "1             51.1 -18.9         -inf  \n",
      "2             51.0 -21.4         -inf  \n",
      "3             51.0 -21.6         -inf  \n",
      "4             51.0 -22.1         -inf  \n",
      "..             ...   ...          ...  \n",
      "174           50.9 -15.1   -15.100000  \n",
      "175           50.9 -14.5    -0.129464  \n",
      "176           50.9  -6.8    -0.018133  \n",
      "177           50.9   0.9     0.001391  \n",
      "178           50.9   6.1     0.007003  \n",
      "\n",
      "[179 rows x 17 columns]\n"
     ]
    },
    {
     "name": "stderr",
     "output_type": "stream",
     "text": [
      "b'Skipping line 181: expected 16 fields, saw 26\\nSkipping line 182: expected 16 fields, saw 26\\nSkipping line 183: expected 16 fields, saw 26\\nSkipping line 184: expected 16 fields, saw 26\\nSkipping line 185: expected 16 fields, saw 26\\nSkipping line 186: expected 16 fields, saw 26\\nSkipping line 187: expected 16 fields, saw 26\\nSkipping line 188: expected 16 fields, saw 26\\nSkipping line 189: expected 16 fields, saw 26\\nSkipping line 190: expected 16 fields, saw 26\\nSkipping line 191: expected 16 fields, saw 26\\nSkipping line 192: expected 16 fields, saw 26\\nSkipping line 193: expected 16 fields, saw 26\\n'\n",
      "/home/eebc177student/anaconda3/lib/python3.7/site-packages/ipykernel_launcher.py:5: SettingWithCopyWarning: \n",
      "A value is trying to be set on a copy of a slice from a DataFrame.\n",
      "Try using .loc[row_indexer,col_indexer] = value instead\n",
      "\n",
      "See the caveats in the documentation: http://pandas.pydata.org/pandas-docs/stable/user_guide/indexing.html#returning-a-view-versus-a-copy\n",
      "  \"\"\"\n"
     ]
    }
   ],
   "source": [
    "\n",
    "data = pd.read_csv('hourly(2).csv', error_bad_lines=False, parse_dates = [['Date', 'Hour (PST)']])\n",
    "specificcity = data.loc[data['Stn Id'] == 113]\n",
    "specificcitylighttemps = specificcity.loc[specificcity['Sol Rad (Ly/day)'] > 0]\n",
    "specificcitydarktemps = specificcity.loc[specificcity['Sol Rad (Ly/day)'] == 0]\n",
    "specificcitydarktemps['difference'] = specificcitydarktemps['Air Temp (F)'] - specificcitydarktemps['Soil Temp (F)']\n",
    "specificcity['diff'] = specificcity['Air Temp (F)'] - specificcity['Soil Temp (F)']\n",
    "specificcity['diff/solrad'] = (specificcity['Air Temp (F)'] - specificcity['Soil Temp (F)'])/(specificcity['Sol Rad (Ly/day)'])\n",
    "print(specificcity)"
   ]
  },
  {
   "cell_type": "code",
   "execution_count": 4,
   "metadata": {
    "scrolled": true
   },
   "outputs": [
    {
     "name": "stderr",
     "output_type": "stream",
     "text": [
      "b'Skipping line 181: expected 16 fields, saw 26\\nSkipping line 182: expected 16 fields, saw 26\\nSkipping line 183: expected 16 fields, saw 26\\nSkipping line 184: expected 16 fields, saw 26\\nSkipping line 185: expected 16 fields, saw 26\\nSkipping line 186: expected 16 fields, saw 26\\nSkipping line 187: expected 16 fields, saw 26\\nSkipping line 188: expected 16 fields, saw 26\\nSkipping line 189: expected 16 fields, saw 26\\nSkipping line 190: expected 16 fields, saw 26\\nSkipping line 191: expected 16 fields, saw 26\\nSkipping line 192: expected 16 fields, saw 26\\nSkipping line 193: expected 16 fields, saw 26\\n'\n",
      "/home/eebc177student/anaconda3/lib/python3.7/site-packages/ipykernel_launcher.py:20: SettingWithCopyWarning: \n",
      "A value is trying to be set on a copy of a slice from a DataFrame.\n",
      "Try using .loc[row_indexer,col_indexer] = value instead\n",
      "\n",
      "See the caveats in the documentation: http://pandas.pydata.org/pandas-docs/stable/user_guide/indexing.html#returning-a-view-versus-a-copy\n"
     ]
    },
    {
     "data": {
      "image/png": "[encoded data removed]",
      "text/plain": [
       "<Figure size 720x216 with 3 Axes>"
      ]
     },
     "metadata": {
      "needs_background": "light"
     },
     "output_type": "display_data"
    }
   ],
   "source": [
    "plotting_light_dark_tempscimis('hourly(2).csv', 113)"
   ]
  },
  {
   "cell_type": "markdown",
   "metadata": {},
   "source": [
    "# Part 2"
   ]
  },
  {
   "cell_type": "code",
   "execution_count": null,
   "metadata": {
    "scrolled": false
   },
   "outputs": [],
   "source": [
    "import csv\n",
    "input_file = csv.DictReader(open('hourly(2).csv'))\n",
    "for row in input_file:\n",
    "    print(row['Stn Id']) "
   ]
  },
  {
   "cell_type": "code",
   "execution_count": null,
   "metadata": {},
   "outputs": [],
   "source": [
    "stationair = dict()\n",
    "input_file = csv.DictReader(open('hourly(2).csv'))\n",
    "for row in input_file:\n",
    "    stationair[row['Stn Name']] = row['Air Temp (F)'], row['Sol Rad (Ly/day)']\n",
    "    print(stationair)\n",
    "    \n",
    "    \n"
   ]
  },
  {
   "cell_type": "code",
   "execution_count": null,
   "metadata": {
    "scrolled": true
   },
   "outputs": [],
   "source": [
    "print(row)"
   ]
  },
  {
   "cell_type": "code",
   "execution_count": null,
   "metadata": {
    "scrolled": true
   },
   "outputs": [],
   "source": [
    "\n",
    "input_file = csv.DictReader(open('hourly(2).csv'), quoting=csv.QUOTE_NONNUMERIC, dialect=\"excel\")\n",
    "for row in input_file:\n",
    "    print(row)"
   ]
  },
  {
   "cell_type": "code",
   "execution_count": null,
   "metadata": {},
   "outputs": [],
   "source": [
    "emptydic = {}\n",
    "only_dark_dict = dict()\n",
    "input_file = csv.DictReader(open('hourly(2).csv'))\n",
    "for row in input_file:\n",
    "    only_dark_dict['Date'] = (row['Sol Rad (Ly/day)'] == '0')\n",
    "emptydic[only_dark_dict['Date']]\n",
    "print(emptydic)\n",
    "# getting every date value that has no sol radiance\n",
    "# had to work with strings, could  not figure out conversion to int or float objects\n",
    "#even using quoting = csv.QUOTENONNUMERIC didnt work"
   ]
  },
  {
   "cell_type": "code",
   "execution_count": null,
   "metadata": {},
   "outputs": [],
   "source": []
  },
  {
   "cell_type": "markdown",
   "metadata": {},
   "source": [
    "# Part 3"
   ]
  },
  {
   "cell_type": "code",
   "execution_count": 69,
   "metadata": {},
   "outputs": [],
   "source": [
    "class Data(object):\n",
    "\n",
    "    def __str__(self):\n",
    "        return 'str'\n",
    "\n",
    "    def __repr__(self):\n",
    "        return 'repr'"
   ]
  },
  {
   "cell_type": "code",
   "execution_count": 99,
   "metadata": {},
   "outputs": [
    {
     "data": {
      "text/plain": [
       "'0      4.6\\n1      4.5\\n2      4.5\\n3      4.6\\n4      4.3\\n      ... \\n174    6.2\\n175    6.4\\n176    7.6\\n177    8.1\\n178    8.0\\nName: Vap Pres (mBars), Length: 179, dtype: float64 0      51.1\\n1      51.1\\n2      51.0\\n3      51.0\\n4      51.0\\n       ... \\n174    50.9\\n175    50.9\\n176    50.9\\n177    50.9\\n178    50.9\\nName: Soil Temp (F), Length: 179, dtype: float64'"
      ]
     },
     "execution_count": 99,
     "metadata": {},
     "output_type": "execute_result"
    }
   ],
   "source": [
    "'%s %r' % ((data['Vap Pres (mBars)']), (data['Soil Temp (F)']))"
   ]
  },
  {
   "cell_type": "code",
   "execution_count": 10,
   "metadata": {},
   "outputs": [
    {
     "name": "stdout",
     "output_type": "stream",
     "text": [
      "0      51.1\n",
      "1      51.1\n",
      "2      51.0\n",
      "3      51.0\n",
      "4      51.0\n",
      "       ... \n",
      "174    50.9\n",
      "175    50.9\n",
      "176    50.9\n",
      "177    50.9\n",
      "178    50.9\n",
      "Name: Soil Temp (F), Length: 179, dtype: float64 0      4.6\n",
      "1      4.5\n",
      "2      4.5\n",
      "3      4.6\n",
      "4      4.3\n",
      "      ... \n",
      "174    6.2\n",
      "175    6.4\n",
      "176    7.6\n",
      "177    8.1\n",
      "178    8.0\n",
      "Name: Vap Pres (mBars), Length: 179, dtype: float64\n"
     ]
    },
    {
     "ename": "TypeError",
     "evalue": "write() argument must be str, not None",
     "output_type": "error",
     "traceback": [
      "\u001b[0;31m---------------------------------------------------------------------------\u001b[0m",
      "\u001b[0;31mTypeError\u001b[0m                                 Traceback (most recent call last)",
      "\u001b[0;32m<ipython-input-10-3e0fb740ad58>\u001b[0m in \u001b[0;36m<module>\u001b[0;34m\u001b[0m\n\u001b[1;32m      4\u001b[0m \u001b[0mf\u001b[0m \u001b[0;34m=\u001b[0m \u001b[0mopen\u001b[0m\u001b[0;34m(\u001b[0m\u001b[0;34m'file.txt'\u001b[0m\u001b[0;34m,\u001b[0m \u001b[0;34m'w'\u001b[0m\u001b[0;34m)\u001b[0m\u001b[0;34m\u001b[0m\u001b[0;34m\u001b[0m\u001b[0m\n\u001b[1;32m      5\u001b[0m \u001b[0;34m\u001b[0m\u001b[0m\n\u001b[0;32m----> 6\u001b[0;31m \u001b[0mf\u001b[0m\u001b[0;34m.\u001b[0m\u001b[0mwrite\u001b[0m\u001b[0;34m(\u001b[0m\u001b[0mprint\u001b[0m\u001b[0;34m(\u001b[0m\u001b[0mtext\u001b[0m\u001b[0;34m)\u001b[0m\u001b[0;34m)\u001b[0m\u001b[0;34m\u001b[0m\u001b[0;34m\u001b[0m\u001b[0m\n\u001b[0m\u001b[1;32m      7\u001b[0m \u001b[0;34m\u001b[0m\u001b[0m\n\u001b[1;32m      8\u001b[0m \u001b[0mf\u001b[0m\u001b[0;34m.\u001b[0m\u001b[0mclose\u001b[0m\u001b[0;34m(\u001b[0m\u001b[0;34m)\u001b[0m\u001b[0;34m\u001b[0m\u001b[0;34m\u001b[0m\u001b[0m\n",
      "\u001b[0;31mTypeError\u001b[0m: write() argument must be str, not None"
     ]
    }
   ],
   "source": [
    "'Hello, {}'.format('rob') \n",
    "text = '{} {}'.format((data['Soil Temp (F)']), (data['Vap Pres (mBars)']))\n",
    "# changing order of columns using {} to hold locations and fill after .formt()\n",
    "f = open('file.txt', 'w')\n",
    "#creates an empty file.txt \n",
    "f.write(print(text))\n",
    "#writes into thef text file the print out of text defined in line 2\n",
    "\n",
    "f.close()\n",
    "#closes operation "
   ]
  },
  {
   "cell_type": "code",
   "execution_count": 79,
   "metadata": {},
   "outputs": [
    {
     "name": "stderr",
     "output_type": "stream",
     "text": [
      "b'Skipping line 181: expected 16 fields, saw 26\\nSkipping line 182: expected 16 fields, saw 26\\nSkipping line 183: expected 16 fields, saw 26\\nSkipping line 184: expected 16 fields, saw 26\\nSkipping line 185: expected 16 fields, saw 26\\nSkipping line 186: expected 16 fields, saw 26\\nSkipping line 187: expected 16 fields, saw 26\\nSkipping line 188: expected 16 fields, saw 26\\nSkipping line 189: expected 16 fields, saw 26\\nSkipping line 190: expected 16 fields, saw 26\\nSkipping line 191: expected 16 fields, saw 26\\nSkipping line 192: expected 16 fields, saw 26\\nSkipping line 193: expected 16 fields, saw 26\\n'\n"
     ]
    }
   ],
   "source": [
    "data = pd.read_csv('hourly(2).csv', error_bad_lines=False, parse_dates = [['Date', 'Hour (PST)']])"
   ]
  },
  {
   "cell_type": "code",
   "execution_count": 85,
   "metadata": {},
   "outputs": [
    {
     "name": "stdout",
     "output_type": "stream",
     "text": [
      "0      113\n",
      "1      113\n",
      "2      113\n",
      "3      113\n",
      "4      113\n",
      "      ... \n",
      "174    113\n",
      "175    113\n",
      "176    113\n",
      "177    113\n",
      "178    113\n",
      "Name: Stn Id, Length: 179, dtype: int64\n"
     ]
    }
   ],
   "source": [
    "print(data['Stn Id'])"
   ]
  },
  {
   "cell_type": "markdown",
   "metadata": {},
   "source": [
    "# Something with re"
   ]
  },
  {
   "cell_type": "code",
   "execution_count": 143,
   "metadata": {},
   "outputs": [],
   "source": [
    "columnregex = re.compile(r'\\([\\w\\d\\-%]*\\)') #searches for a word or % or number\n",
    "#within parenthesis in other words data columns that contain units"
   ]
  },
  {
   "cell_type": "code",
   "execution_count": 114,
   "metadata": {},
   "outputs": [
    {
     "name": "stdout",
     "output_type": "stream",
     "text": [
      "['Date_Hour (PST)', 'Stn Id', 'Stn Name', 'CIMIS Region', 'Jul', 'ETo (in)', 'Precip (in)', 'Sol Rad (Ly/day)', 'Vap Pres (mBars)', 'Air Temp (F)', 'Rel Hum (%)', 'Dew Point (F)', 'Wind Speed (mph)', 'Wind Dir (0-360)', 'Soil Temp (F)']\n"
     ]
    }
   ],
   "source": []
  },
  {
   "cell_type": "code",
   "execution_count": 144,
   "metadata": {},
   "outputs": [
    {
     "name": "stdout",
     "output_type": "stream",
     "text": [
      "<re.Match object; span=(10, 15), match='(PST)'>\n",
      "None\n",
      "None\n",
      "None\n",
      "None\n",
      "<re.Match object; span=(4, 8), match='(in)'>\n",
      "<re.Match object; span=(7, 11), match='(in)'>\n",
      "None\n",
      "<re.Match object; span=(9, 16), match='(mBars)'>\n",
      "<re.Match object; span=(9, 12), match='(F)'>\n",
      "<re.Match object; span=(8, 11), match='(%)'>\n",
      "<re.Match object; span=(10, 13), match='(F)'>\n",
      "<re.Match object; span=(11, 16), match='(mph)'>\n",
      "<re.Match object; span=(9, 16), match='(0-360)'>\n",
      "<re.Match object; span=(10, 13), match='(F)'>\n"
     ]
    }
   ],
   "source": [
    "for heading in columnheads:\n",
    "    print(re.search(columnregex,heading)) #searching headings and returning a match if the\n",
    "    #the column regex is found in the heading"
   ]
  },
  {
   "cell_type": "code",
   "execution_count": 126,
   "metadata": {
    "scrolled": false
   },
   "outputs": [
    {
     "name": "stdout",
     "output_type": "stream",
     "text": [
      "None\n",
      "None\n",
      "None\n",
      "None\n",
      "None\n",
      "None\n",
      "None\n",
      "None\n",
      "None\n",
      "None\n",
      "None\n",
      "None\n",
      "None\n",
      "None\n",
      "None\n"
     ]
    }
   ],
   "source": [
    "for heading in columnheads:\n",
    "    print(re.search(columnregex, heading))\n",
    "    #group 1 is foirst part of match from auth_regex"
   ]
  },
  {
   "cell_type": "code",
   "execution_count": 109,
   "metadata": {},
   "outputs": [
    {
     "name": "stdout",
     "output_type": "stream",
     "text": [
      "<re.Match object; span=(0, 10), match='Date_Hour '>\n",
      "<re.Match object; span=(0, 6), match='Stn Id'>\n",
      "<re.Match object; span=(0, 8), match='Stn Name'>\n",
      "<re.Match object; span=(0, 12), match='CIMIS Region'>\n",
      "<re.Match object; span=(0, 3), match='Jul'>\n",
      "<re.Match object; span=(0, 4), match='ETo '>\n",
      "<re.Match object; span=(0, 7), match='Precip '>\n",
      "<re.Match object; span=(0, 8), match='Sol Rad '>\n",
      "<re.Match object; span=(0, 9), match='Vap Pres '>\n",
      "<re.Match object; span=(0, 9), match='Air Temp '>\n",
      "<re.Match object; span=(0, 8), match='Rel Hum '>\n",
      "<re.Match object; span=(0, 10), match='Dew Point '>\n",
      "<re.Match object; span=(0, 11), match='Wind Speed '>\n",
      "<re.Match object; span=(0, 9), match='Wind Dir '>\n",
      "<re.Match object; span=(0, 10), match='Soil Temp '>\n"
     ]
    }
   ],
   "source": [
    "for heading in columnheads:\n",
    "    print(re.search(r'\\w*[\\s\\w*]+', heading)) #searching headings that contain "
   ]
  },
  {
   "cell_type": "code",
   "execution_count": 27,
   "metadata": {},
   "outputs": [
    {
     "name": "stdout",
     "output_type": "stream",
     "text": [
      "159 <re.Match object; span=(0, 3), match='159'>\n",
      "152 <re.Match object; span=(0, 3), match='152'>\n",
      "169 <re.Match object; span=(0, 3), match='169'>\n",
      "167 <re.Match object; span=(0, 3), match='167'>\n",
      "140 <re.Match object; span=(0, 3), match='140'>\n",
      "156 <re.Match object; span=(0, 3), match='156'>\n",
      "143 <re.Match object; span=(0, 3), match='143'>\n",
      "180 <re.Match object; span=(0, 3), match='180'>\n",
      "131 <re.Match object; span=(0, 3), match='131'>\n",
      "143 <re.Match object; span=(0, 3), match='143'>\n",
      "143 <re.Match object; span=(0, 3), match='143'>\n",
      "353 None\n",
      "8 None\n",
      "3 None\n",
      "345 None\n",
      "345 None\n",
      "301 None\n",
      "318 None\n",
      "1 None\n",
      "353 None\n",
      "180 <re.Match object; span=(0, 3), match='180'>\n",
      "147 <re.Match object; span=(0, 3), match='147'>\n",
      "173 <re.Match object; span=(0, 3), match='173'>\n",
      "155 <re.Match object; span=(0, 3), match='155'>\n",
      "159 <re.Match object; span=(0, 3), match='159'>\n",
      "173 <re.Match object; span=(0, 3), match='173'>\n",
      "136 <re.Match object; span=(0, 3), match='136'>\n",
      "136 <re.Match object; span=(0, 3), match='136'>\n",
      "160 <re.Match object; span=(0, 3), match='160'>\n",
      "178 <re.Match object; span=(0, 3), match='178'>\n",
      "161 <re.Match object; span=(0, 3), match='161'>\n",
      "166 <re.Match object; span=(0, 3), match='166'>\n",
      "162 <re.Match object; span=(0, 3), match='162'>\n",
      "135 <re.Match object; span=(0, 3), match='135'>\n",
      "138 <re.Match object; span=(0, 3), match='138'>\n",
      "119 <re.Match object; span=(0, 3), match='119'>\n",
      "357 None\n",
      "350 None\n",
      "348 None\n",
      "337 None\n",
      "339 None\n",
      "335 None\n",
      "351 None\n",
      "224 None\n",
      "224 None\n",
      "161 <re.Match object; span=(0, 3), match='161'>\n",
      "179 <re.Match object; span=(0, 3), match='179'>\n",
      "154 <re.Match object; span=(0, 3), match='154'>\n",
      "145 <re.Match object; span=(0, 3), match='145'>\n",
      "154 <re.Match object; span=(0, 3), match='154'>\n",
      "153 <re.Match object; span=(0, 3), match='153'>\n",
      "160 <re.Match object; span=(0, 3), match='160'>\n",
      "162 <re.Match object; span=(0, 3), match='162'>\n",
      "164 <re.Match object; span=(0, 3), match='164'>\n",
      "149 <re.Match object; span=(0, 3), match='149'>\n",
      "141 <re.Match object; span=(0, 3), match='141'>\n",
      "155 <re.Match object; span=(0, 3), match='155'>\n",
      "145 <re.Match object; span=(0, 3), match='145'>\n",
      "133 <re.Match object; span=(0, 3), match='133'>\n",
      "135 <re.Match object; span=(0, 3), match='135'>\n",
      "139 <re.Match object; span=(0, 3), match='139'>\n",
      "2 None\n",
      "349 None\n",
      "349 None\n",
      "334 None\n",
      "342 None\n",
      "338 None\n",
      "313 None\n",
      "288 None\n",
      "149 <re.Match object; span=(0, 3), match='149'>\n",
      "179 <re.Match object; span=(0, 3), match='179'>\n",
      "134 <re.Match object; span=(0, 3), match='134'>\n",
      "175 <re.Match object; span=(0, 3), match='175'>\n",
      "155 <re.Match object; span=(0, 3), match='155'>\n",
      "145 <re.Match object; span=(0, 3), match='145'>\n",
      "132 <re.Match object; span=(0, 3), match='132'>\n",
      "186 <re.Match object; span=(0, 3), match='186'>\n",
      "318 None\n",
      "229 None\n",
      "222 None\n",
      "113 <re.Match object; span=(0, 3), match='113'>\n",
      "206 None\n",
      "199 <re.Match object; span=(0, 3), match='199'>\n",
      "108 <re.Match object; span=(0, 3), match='108'>\n",
      "325 None\n",
      "327 None\n",
      "339 None\n",
      "339 None\n",
      "333 None\n",
      "341 None\n",
      "358 None\n",
      "358 None\n",
      "265 None\n",
      "197 <re.Match object; span=(0, 3), match='197'>\n",
      "91 None\n",
      "173 <re.Match object; span=(0, 3), match='173'>\n",
      "164 <re.Match object; span=(0, 3), match='164'>\n",
      "175 <re.Match object; span=(0, 3), match='175'>\n",
      "167 <re.Match object; span=(0, 3), match='167'>\n",
      "132 <re.Match object; span=(0, 3), match='132'>\n",
      "180 <re.Match object; span=(0, 3), match='180'>\n",
      "220 None\n",
      "208 None\n",
      "205 None\n",
      "289 None\n",
      "321 None\n",
      "323 None\n",
      "322 None\n",
      "335 None\n",
      "351 None\n",
      "17 None\n",
      "24 None\n",
      "29 None\n",
      "358 None\n",
      "284 None\n",
      "338 None\n",
      "301 None\n",
      "325 None\n",
      "329 None\n",
      "348 None\n",
      "351 None\n",
      "335 None\n",
      "344 None\n",
      "327 None\n",
      "342 None\n",
      "312 None\n",
      "249 None\n",
      "298 None\n",
      "345 None\n",
      "37 None\n",
      "39 None\n",
      "345 None\n",
      "339 None\n",
      "343 None\n",
      "336 None\n",
      "339 None\n",
      "341 None\n",
      "324 None\n",
      "177 <re.Match object; span=(0, 3), match='177'>\n",
      "227 None\n",
      "171 <re.Match object; span=(0, 3), match='171'>\n",
      "159 <re.Match object; span=(0, 3), match='159'>\n",
      "152 <re.Match object; span=(0, 3), match='152'>\n",
      "150 <re.Match object; span=(0, 3), match='150'>\n",
      "171 <re.Match object; span=(0, 3), match='171'>\n",
      "164 <re.Match object; span=(0, 3), match='164'>\n",
      "152 <re.Match object; span=(0, 3), match='152'>\n",
      "185 <re.Match object; span=(0, 3), match='185'>\n",
      "172 <re.Match object; span=(0, 3), match='172'>\n",
      "146 <re.Match object; span=(0, 3), match='146'>\n",
      "171 <re.Match object; span=(0, 3), match='171'>\n",
      "184 <re.Match object; span=(0, 3), match='184'>\n",
      "138 <re.Match object; span=(0, 3), match='138'>\n",
      "140 <re.Match object; span=(0, 3), match='140'>\n",
      "146 <re.Match object; span=(0, 3), match='146'>\n",
      "123 <re.Match object; span=(0, 3), match='123'>\n",
      "316 None\n",
      "344 None\n",
      "344 None\n",
      "327 None\n",
      "340 None\n",
      "254 None\n",
      "152 <re.Match object; span=(0, 3), match='152'>\n",
      "188 <re.Match object; span=(0, 3), match='188'>\n",
      "151 <re.Match object; span=(0, 3), match='151'>\n",
      "149 <re.Match object; span=(0, 3), match='149'>\n",
      "163 <re.Match object; span=(0, 3), match='163'>\n",
      "159 <re.Match object; span=(0, 3), match='159'>\n",
      "167 <re.Match object; span=(0, 3), match='167'>\n",
      "165 <re.Match object; span=(0, 3), match='165'>\n",
      "172 <re.Match object; span=(0, 3), match='172'>\n",
      "149 <re.Match object; span=(0, 3), match='149'>\n",
      "184 <re.Match object; span=(0, 3), match='184'>\n",
      "157 <re.Match object; span=(0, 3), match='157'>\n",
      "158 <re.Match object; span=(0, 3), match='158'>\n",
      "182 <re.Match object; span=(0, 3), match='182'>\n",
      "150 <re.Match object; span=(0, 3), match='150'>\n",
      "131 <re.Match object; span=(0, 3), match='131'>\n",
      "146 <re.Match object; span=(0, 3), match='146'>\n"
     ]
    }
   ],
   "source": [
    "for row in data['Wind Dir (0-360)']:\n",
    "    print(row, re.match(r'1[0-9]\\d',str(row))) #matching only numbers \n",
    "    #that are three digits and in the hundreds "
   ]
  },
  {
   "cell_type": "code",
   "execution_count": null,
   "metadata": {},
   "outputs": [],
   "source": []
  }
 ],
 "metadata": {
  "kernelspec": {
   "display_name": "Python 3",
   "language": "python",
   "name": "python3"
  },
  "language_info": {
   "codemirror_mode": {
    "name": "ipython",
    "version": 3
   },
   "file_extension": ".py",
   "mimetype": "text/x-python",
   "name": "python",
   "nbconvert_exporter": "python",
   "pygments_lexer": "ipython3",
   "version": "3.7.5"
  }
 },
 "nbformat": 4,
 "nbformat_minor": 2
}
