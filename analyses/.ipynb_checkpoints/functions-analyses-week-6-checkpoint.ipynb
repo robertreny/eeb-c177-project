{
 "cells": [
  {
   "cell_type": "code",
   "execution_count": 41,
   "metadata": {},
   "outputs": [],
   "source": [
    "\n",
    "\n",
    "import numpy as np\n",
    "import pandas as pd\n",
    "import matplotlib.pyplot as plt\n",
    "from collections import defaultdict"
   ]
  },
  {
   "cell_type": "code",
   "execution_count": 74,
   "metadata": {},
   "outputs": [
    {
     "name": "stderr",
     "output_type": "stream",
     "text": [
      "b'Skipping line 181: expected 16 fields, saw 26\\nSkipping line 182: expected 16 fields, saw 26\\nSkipping line 183: expected 16 fields, saw 26\\nSkipping line 184: expected 16 fields, saw 26\\nSkipping line 185: expected 16 fields, saw 26\\nSkipping line 186: expected 16 fields, saw 26\\nSkipping line 187: expected 16 fields, saw 26\\nSkipping line 188: expected 16 fields, saw 26\\nSkipping line 189: expected 16 fields, saw 26\\nSkipping line 190: expected 16 fields, saw 26\\nSkipping line 191: expected 16 fields, saw 26\\nSkipping line 192: expected 16 fields, saw 26\\nSkipping line 193: expected 16 fields, saw 26\\n'\n"
     ]
    }
   ],
   "source": [
    "data = pd.read_csv('hourly(2).csv', error_bad_lines=False, parse_dates = [['Date', 'Hour (PST)']])"
   ]
  },
  {
   "cell_type": "markdown",
   "metadata": {},
   "source": [
    "# Part 1"
   ]
  },
  {
   "cell_type": "code",
   "execution_count": 76,
   "metadata": {
    "scrolled": true
   },
   "outputs": [
    {
     "name": "stdout",
     "output_type": "stream",
     "text": [
      "    Date_Hour (PST)  Stn Id             Stn Name  CIMIS Region  Jul  ETo (in)  \\\n",
      "0     2/5/2020 0100     113  King City-Oasis Rd.  Monterey Bay   36      0.00   \n",
      "1     2/5/2020 0200     113  King City-Oasis Rd.  Monterey Bay   36      0.00   \n",
      "2     2/5/2020 0300     113  King City-Oasis Rd.  Monterey Bay   36      0.00   \n",
      "3     2/5/2020 0400     113  King City-Oasis Rd.  Monterey Bay   36      0.00   \n",
      "4     2/5/2020 0500     113  King City-Oasis Rd.  Monterey Bay   36      0.00   \n",
      "..              ...     ...                  ...           ...  ...       ...   \n",
      "174  2/12/2020 0700     113  King City-Oasis Rd.  Monterey Bay   43      0.00   \n",
      "175  2/12/2020 0800     113  King City-Oasis Rd.  Monterey Bay   43      0.00   \n",
      "176  2/12/2020 0900     113  King City-Oasis Rd.  Monterey Bay   43      0.00   \n",
      "177  2/12/2020 1000     113  King City-Oasis Rd.  Monterey Bay   43      0.01   \n",
      "178  2/12/2020 1100     113  King City-Oasis Rd.  Monterey Bay   43      0.01   \n",
      "\n",
      "     Precip (in)  Sol Rad (Ly/day)  Vap Pres (mBars)  Air Temp (F)  \\\n",
      "0            0.0                 0               4.6          33.0   \n",
      "1            0.0                 0               4.5          32.2   \n",
      "2            0.0                 0               4.5          29.6   \n",
      "3            0.0                 0               4.6          29.4   \n",
      "4            0.0                 0               4.3          28.9   \n",
      "..           ...               ...               ...           ...   \n",
      "174          0.0                 1               6.2          35.8   \n",
      "175          0.0               112               6.4          36.4   \n",
      "176          0.0               375               7.6          44.1   \n",
      "177          0.0               647               8.1          51.8   \n",
      "178          0.0               871               8.0          57.0   \n",
      "\n",
      "     Rel Hum (%)  Dew Point (F)  Wind Speed (mph)  Wind Dir (0-360)  \\\n",
      "0             72           25.1               2.1               159   \n",
      "1             73           24.4               3.0               152   \n",
      "2             81           24.6               1.6               169   \n",
      "3             83           24.8               2.4               167   \n",
      "4             81           23.7               4.3               140   \n",
      "..           ...            ...               ...               ...   \n",
      "174           88           32.5               2.2               158   \n",
      "175           88           33.1               2.6               182   \n",
      "176           77           37.4               4.5               150   \n",
      "177           62           39.2               5.8               131   \n",
      "178           50           38.8               5.5               146   \n",
      "\n",
      "     Soil Temp (F)  \n",
      "0             51.1  \n",
      "1             51.1  \n",
      "2             51.0  \n",
      "3             51.0  \n",
      "4             51.0  \n",
      "..             ...  \n",
      "174           50.9  \n",
      "175           50.9  \n",
      "176           50.9  \n",
      "177           50.9  \n",
      "178           50.9  \n",
      "\n",
      "[179 rows x 15 columns]\n"
     ]
    }
   ],
   "source": [
    "KingCitydata2020 = data.loc[data['Stn Id'] == 113] #select all rows with pomona as station (78)\n",
    "print(KingCitydata2020) "
   ]
  },
  {
   "cell_type": "code",
   "execution_count": 77,
   "metadata": {
    "scrolled": true
   },
   "outputs": [
    {
     "name": "stdout",
     "output_type": "stream",
     "text": [
      "     Sol Rad (Ly/day)             Stn Name\n",
      "6                   1  King City-Oasis Rd.\n",
      "7                  69  King City-Oasis Rd.\n",
      "8                 303  King City-Oasis Rd.\n",
      "9                 484  King City-Oasis Rd.\n",
      "10                807  King City-Oasis Rd.\n",
      "..                ...                  ...\n",
      "174                 1  King City-Oasis Rd.\n",
      "175               112  King City-Oasis Rd.\n",
      "176               375  King City-Oasis Rd.\n",
      "177               647  King City-Oasis Rd.\n",
      "178               871  King City-Oasis Rd.\n",
      "\n",
      "[87 rows x 2 columns]\n"
     ]
    }
   ],
   "source": [
    "KingCitydata2020days = KingCitydata2020.loc[(KingCitydata2020['Sol Rad (Ly/day)'] > 0) & (KingCitydata2020['Precip (in)'] == 0),['Sol Rad (Ly/day)', 'Stn Name']]\n",
    "#selecting multiple conditions and print only the columns following the last condition\n",
    "print(KingCitydata2020days)"
   ]
  },
  {
   "cell_type": "code",
   "execution_count": 78,
   "metadata": {},
   "outputs": [],
   "source": [
    "KingCitydata2020light = KingCitydata2020.loc[KingCitydata2020['Sol Rad (Ly/day)'] > 0]\n",
    "KingCitydata2020dark = KingCitydata2020.loc[KingCitydata2020['Sol Rad (Ly/day)'] == 0]"
   ]
  },
  {
   "cell_type": "code",
   "execution_count": 79,
   "metadata": {},
   "outputs": [
    {
     "name": "stdout",
     "output_type": "stream",
     "text": [
      "    Date_Hour (PST)  Stn Id             Stn Name  CIMIS Region  Jul  ETo (in)  \\\n",
      "6     2/5/2020 0700     113  King City-Oasis Rd.  Monterey Bay   36      0.00   \n",
      "7     2/5/2020 0800     113  King City-Oasis Rd.  Monterey Bay   36      0.00   \n",
      "8     2/5/2020 0900     113  King City-Oasis Rd.  Monterey Bay   36      0.00   \n",
      "9     2/5/2020 1000     113  King City-Oasis Rd.  Monterey Bay   36      0.00   \n",
      "10    2/5/2020 1100     113  King City-Oasis Rd.  Monterey Bay   36      0.01   \n",
      "..              ...     ...                  ...           ...  ...       ...   \n",
      "174  2/12/2020 0700     113  King City-Oasis Rd.  Monterey Bay   43      0.00   \n",
      "175  2/12/2020 0800     113  King City-Oasis Rd.  Monterey Bay   43      0.00   \n",
      "176  2/12/2020 0900     113  King City-Oasis Rd.  Monterey Bay   43      0.00   \n",
      "177  2/12/2020 1000     113  King City-Oasis Rd.  Monterey Bay   43      0.01   \n",
      "178  2/12/2020 1100     113  King City-Oasis Rd.  Monterey Bay   43      0.01   \n",
      "\n",
      "     Precip (in)  Sol Rad (Ly/day)  Vap Pres (mBars)  Air Temp (F)  \\\n",
      "6            0.0                 1               4.4          28.5   \n",
      "7            0.0                69               4.5          28.8   \n",
      "8            0.0               303               5.0          35.9   \n",
      "9            0.0               484               5.3          40.2   \n",
      "10           0.0               807               5.8          49.6   \n",
      "..           ...               ...               ...           ...   \n",
      "174          0.0                 1               6.2          35.8   \n",
      "175          0.0               112               6.4          36.4   \n",
      "176          0.0               375               7.6          44.1   \n",
      "177          0.0               647               8.1          51.8   \n",
      "178          0.0               871               8.0          57.0   \n",
      "\n",
      "     Rel Hum (%)  Dew Point (F)  Wind Speed (mph)  Wind Dir (0-360)  \\\n",
      "6             83           24.0               2.5               143   \n",
      "7             84           24.7               2.2               180   \n",
      "8             70           27.0               3.1               131   \n",
      "9             62           28.4               4.1               143   \n",
      "10            48           30.9               3.1               143   \n",
      "..           ...            ...               ...               ...   \n",
      "174           88           32.5               2.2               158   \n",
      "175           88           33.1               2.6               182   \n",
      "176           77           37.4               4.5               150   \n",
      "177           62           39.2               5.8               131   \n",
      "178           50           38.8               5.5               146   \n",
      "\n",
      "     Soil Temp (F)  \n",
      "6             50.9  \n",
      "7             50.9  \n",
      "8             50.9  \n",
      "9             50.8  \n",
      "10            50.8  \n",
      "..             ...  \n",
      "174           50.9  \n",
      "175           50.9  \n",
      "176           50.9  \n",
      "177           50.9  \n",
      "178           50.9  \n",
      "\n",
      "[87 rows x 15 columns]\n",
      "55.045977011494266\n"
     ]
    }
   ],
   "source": [
    "print(KingCitydata2020light)\n",
    "averagedaytemp = np.mean(KingCitydata2020light['Air Temp (F)'], axis = 0)\n",
    "print(averagedaytemp)"
   ]
  },
  {
   "cell_type": "code",
   "execution_count": 83,
   "metadata": {},
   "outputs": [
    {
     "data": {
      "text/plain": [
       "[<matplotlib.lines.Line2D at 0x7f48b8402450>]"
      ]
     },
     "execution_count": 83,
     "metadata": {},
     "output_type": "execute_result"
    },
    {
     "data": {
      "image/png": "[encoded data removed]",
      "text/plain": [
       "<Figure size 432x288 with 1 Axes>"
      ]
     },
     "metadata": {
      "needs_background": "light"
     },
     "output_type": "display_data"
    }
   ],
   "source": [
    "plt.plot(KingCitydata2020light['Date_Hour (PST)'], KingCitydata2020light['Air Temp (F)']) \n",
    "# plot of temp over time, in this case only light data"
   ]
  },
  {
   "cell_type": "code",
   "execution_count": 81,
   "metadata": {},
   "outputs": [
    {
     "ename": "NameError",
     "evalue": "name 'ava_inflammation' is not defined",
     "output_type": "error",
     "traceback": [
      "\u001b[0;31m---------------------------------------------------------------------------\u001b[0m",
      "\u001b[0;31mNameError\u001b[0m                                 Traceback (most recent call last)",
      "\u001b[0;32m<ipython-input-81-6be657c1ef92>\u001b[0m in \u001b[0;36m<module>\u001b[0;34m\u001b[0m\n\u001b[1;32m      2\u001b[0m \u001b[0;31m#print(ava_inflammation)\u001b[0m\u001b[0;34m\u001b[0m\u001b[0;34m\u001b[0m\u001b[0;34m\u001b[0m\u001b[0m\n\u001b[1;32m      3\u001b[0m \u001b[0;34m\u001b[0m\u001b[0m\n\u001b[0;32m----> 4\u001b[0;31m \u001b[0mava_plot\u001b[0m \u001b[0;34m=\u001b[0m \u001b[0mplt\u001b[0m\u001b[0;34m.\u001b[0m\u001b[0mplot\u001b[0m\u001b[0;34m(\u001b[0m\u001b[0mava_inflammation\u001b[0m\u001b[0;34m)\u001b[0m\u001b[0;34m\u001b[0m\u001b[0;34m\u001b[0m\u001b[0m\n\u001b[0m\u001b[1;32m      5\u001b[0m \u001b[0mplt\u001b[0m\u001b[0;34m.\u001b[0m\u001b[0mxlabel\u001b[0m\u001b[0;34m(\u001b[0m\u001b[0;34m'time (days)'\u001b[0m\u001b[0;34m)\u001b[0m\u001b[0;34m\u001b[0m\u001b[0;34m\u001b[0m\u001b[0m\n\u001b[1;32m      6\u001b[0m \u001b[0mplt\u001b[0m\u001b[0;34m.\u001b[0m\u001b[0mylabel\u001b[0m\u001b[0;34m(\u001b[0m\u001b[0;34m'mean inflammation score'\u001b[0m\u001b[0;34m,\u001b[0m \u001b[0msize\u001b[0m\u001b[0;34m=\u001b[0m\u001b[0;36m30\u001b[0m\u001b[0;34m)\u001b[0m\u001b[0;34m\u001b[0m\u001b[0;34m\u001b[0m\u001b[0m\n",
      "\u001b[0;31mNameError\u001b[0m: name 'ava_inflammation' is not defined"
     ]
    }
   ],
   "source": [
    "#ava_inflammation = np.mean(data, axis=0) # will give average infl per day\n",
    "#print(ava_inflammation)\n",
    "\n",
    "ava_plot = plt.plot(ava_inflammation)\n",
    "plt.xlabel('time (days)')\n",
    "plt.ylabel('mean inflammation score', size=30)\n",
    "plt.title('patient data')\n",
    "plt.show()\n",
    "\n",
    "fig = plt.figure(figsize=(10.0, 3.0))#an empty figure to hold multiple figures\n",
    "\n",
    "fig.suptitle('This is my super title', va ='bottom', fontsize=15) #super title goes over everything\n",
    "#va = vertical alignment\n",
    "\n",
    "\n",
    "#put in width and height in pixels (10.,3.0)\n",
    "#next create paneled figures\n",
    "subplot1 = fig.add_subplot(1, 3, 1) #put in rows, cols, position\n",
    "subplot2 = fig.add_subplot(1, 3, 2)\n",
    "subplot3 = fig.add_subplot(1, 3, 3)\n",
    "\n",
    "#now adding in 3 subplots\n",
    "\n",
    "subplot1.set_ylabel('average') #labeleing scheme different from above\n",
    "subplot1.plot(np.mean(data, axis=0), '--') #modify line types\n",
    "subplot2.set_ylabel('max')\n",
    "subplot2.plot(np.max(data, axis=0), '-o')\n",
    "subplot2.set_xlabel('Time(days)')\n",
    "\n",
    "subplot3.set_ylabel('min')\n",
    "subplot3.plot(np.min(data, axis=0))\n",
    "\n",
    "fig.tight_layout() #automatic reformating\n",
    "plt.show()\n",
    "            "
   ]
  },
  {
   "cell_type": "code",
   "execution_count": 101,
   "metadata": {},
   "outputs": [],
   "source": [
    "def plotting_light_dark_tempscimis(filename, stationID):\n",
    "    data = pd.read_csv(filename, error_bad_lines=False, parse_dates = [['Date', 'Hour (PST)']])\n",
    "    specificcity = data.loc[data['Stn Id'] == stationID]\n",
    "    specificcitylighttemps = specificcity.loc[specificcity['Sol Rad (Ly/day)'] > 0]\n",
    "    specificcitydarktemps = specificcity.loc[specificcity['Sol Rad (Ly/day)'] == 0]\n",
    "    return\n",
    "    fig = plt.figure(figsize = (10.0, 3.0)) \n",
    "    axes1 = fig.add_subplot(1,3,1) \n",
    "    axes2 = fig.add_subplot(1,3,2) \n",
    "    axes3 = fig.add_subplot(1,3,3)\n",
    "    axes1.plot(specificcitylighttemps['Date_Hour (PST)'], specificcitylighttemps['Air Temp (F)']) \n",
    "    axes2.plot(specificcitydarktemps['Date_Hour (PST)'], specificcitydarktemps['Air Temp (F)']) \n",
    "    "
   ]
  },
  {
   "cell_type": "code",
   "execution_count": 102,
   "metadata": {},
   "outputs": [
    {
     "data": {
      "text/plain": [
       "[<matplotlib.lines.Line2D at 0x7f48b2ba9c50>]"
      ]
     },
     "execution_count": 102,
     "metadata": {},
     "output_type": "execute_result"
    },
    {
     "data": {
      "image/png": "[encoded data removed]",
      "text/plain": [
       "<Figure size 720x216 with 3 Axes>"
      ]
     },
     "metadata": {
      "needs_background": "light"
     },
     "output_type": "display_data"
    }
   ],
   "source": [
    "fig = plt.figure(figsize = (10.0, 3.0)) \n",
    "axes1 = fig.add_subplot(1,3,1) \n",
    "axes2 = fig.add_subplot(1,3,2) \n",
    "axes3 = fig.add_subplot(1,3,3)\n",
    "\n",
    "axes1.plot(KingCitydata2020light['Date_Hour (PST)'], KingCitydata2020light['Air Temp (F)']) \n",
    "axes2.plot(KingCitydata2020dark['Date_Hour (PST)'], KingCitydata2020dark['Air Temp (F)'])     "
   ]
  },
  {
   "cell_type": "code",
   "execution_count": 103,
   "metadata": {},
   "outputs": [
    {
     "name": "stderr",
     "output_type": "stream",
     "text": [
      "b'Skipping line 181: expected 16 fields, saw 26\\nSkipping line 182: expected 16 fields, saw 26\\nSkipping line 183: expected 16 fields, saw 26\\nSkipping line 184: expected 16 fields, saw 26\\nSkipping line 185: expected 16 fields, saw 26\\nSkipping line 186: expected 16 fields, saw 26\\nSkipping line 187: expected 16 fields, saw 26\\nSkipping line 188: expected 16 fields, saw 26\\nSkipping line 189: expected 16 fields, saw 26\\nSkipping line 190: expected 16 fields, saw 26\\nSkipping line 191: expected 16 fields, saw 26\\nSkipping line 192: expected 16 fields, saw 26\\nSkipping line 193: expected 16 fields, saw 26\\n'\n",
      "/home/eebc177student/anaconda3/lib/python3.7/site-packages/pandas/core/ops/__init__.py:1115: FutureWarning: elementwise comparison failed; returning scalar instead, but in the future will perform elementwise comparison\n",
      "  result = method(y)\n"
     ]
    }
   ],
   "source": [
    "plotting_light_dark_tempscimis('hourly(2).csv', '113')"
   ]
  },
  {
   "cell_type": "markdown",
   "metadata": {},
   "source": [
    "# Part 2"
   ]
  },
  {
   "cell_type": "code",
   "execution_count": 96,
   "metadata": {
    "scrolled": false
   },
   "outputs": [
    {
     "name": "stdout",
     "output_type": "stream",
     "text": [
      "113\n",
      "113\n",
      "113\n",
      "113\n",
      "113\n",
      "113\n",
      "113\n",
      "113\n",
      "113\n",
      "113\n",
      "113\n",
      "113\n",
      "113\n",
      "113\n",
      "113\n",
      "113\n",
      "113\n",
      "113\n",
      "113\n",
      "113\n",
      "113\n",
      "113\n",
      "113\n",
      "113\n",
      "113\n",
      "113\n",
      "113\n",
      "113\n",
      "113\n",
      "113\n",
      "113\n",
      "113\n",
      "113\n",
      "113\n",
      "113\n",
      "113\n",
      "113\n",
      "113\n",
      "113\n",
      "113\n",
      "113\n",
      "113\n",
      "113\n",
      "113\n",
      "113\n",
      "113\n",
      "113\n",
      "113\n",
      "113\n",
      "113\n",
      "113\n",
      "113\n",
      "113\n",
      "113\n",
      "113\n",
      "113\n",
      "113\n",
      "113\n",
      "113\n",
      "113\n",
      "113\n",
      "113\n",
      "113\n",
      "113\n",
      "113\n",
      "113\n",
      "113\n",
      "113\n",
      "113\n",
      "113\n",
      "113\n",
      "113\n",
      "113\n",
      "113\n",
      "113\n",
      "113\n",
      "113\n",
      "113\n",
      "113\n",
      "113\n",
      "113\n",
      "113\n",
      "113\n",
      "113\n",
      "113\n",
      "113\n",
      "113\n",
      "113\n",
      "113\n",
      "113\n",
      "113\n",
      "113\n",
      "113\n",
      "113\n",
      "113\n",
      "113\n",
      "113\n",
      "113\n",
      "113\n",
      "113\n",
      "113\n",
      "113\n",
      "113\n",
      "113\n",
      "113\n",
      "113\n",
      "113\n",
      "113\n",
      "113\n",
      "113\n",
      "113\n",
      "113\n",
      "113\n",
      "113\n",
      "113\n",
      "113\n",
      "113\n",
      "113\n",
      "113\n",
      "113\n",
      "113\n",
      "113\n",
      "113\n",
      "113\n",
      "113\n",
      "113\n",
      "113\n",
      "113\n",
      "113\n",
      "113\n",
      "113\n",
      "113\n",
      "113\n",
      "113\n",
      "113\n",
      "113\n",
      "113\n",
      "113\n",
      "113\n",
      "113\n",
      "113\n",
      "113\n",
      "113\n",
      "113\n",
      "113\n",
      "113\n",
      "113\n",
      "113\n",
      "113\n",
      "113\n",
      "113\n",
      "113\n",
      "113\n",
      "113\n",
      "113\n",
      "113\n",
      "113\n",
      "113\n",
      "113\n",
      "113\n",
      "113\n",
      "113\n",
      "113\n",
      "113\n",
      "113\n",
      "113\n",
      "113\n",
      "113\n",
      "113\n",
      "113\n",
      "113\n",
      "113\n",
      "113\n",
      "113\n",
      "113\n",
      "113\n",
      "113\n",
      "113\n",
      "113\n",
      "113\n",
      "113\n",
      "113\n",
      "113\n",
      "113\n",
      "113\n",
      "113\n",
      "113\n",
      "113\n",
      "113\n",
      "113\n",
      "113\n",
      "113\n",
      "                                                                                                                                                                                                                                                                                                                                                                                                                                                                                                                                                                                                                                                                                                                                                                                                                                                                                                                                                                                                                                                                \n"
     ]
    }
   ],
   "source": [
    "import csv\n",
    "input_file = csv.DictReader(open('hourly(2).csv'))\n",
    "for row in input_file:\n",
    "    print(row['Stn Id']) "
   ]
  },
  {
   "cell_type": "code",
   "execution_count": 132,
   "metadata": {},
   "outputs": [
    {
     "name": "stdout",
     "output_type": "stream",
     "text": [
      "{'King City-Oasis Rd.': '33.0'}\n",
      "{'King City-Oasis Rd.': '32.2'}\n",
      "{'King City-Oasis Rd.': '29.6'}\n",
      "{'King City-Oasis Rd.': '29.4'}\n",
      "{'King City-Oasis Rd.': '28.9'}\n",
      "{'King City-Oasis Rd.': '27.8'}\n",
      "{'King City-Oasis Rd.': '28.5'}\n",
      "{'King City-Oasis Rd.': '28.8'}\n",
      "{'King City-Oasis Rd.': '35.9'}\n",
      "{'King City-Oasis Rd.': '40.2'}\n",
      "{'King City-Oasis Rd.': '49.6'}\n",
      "{'King City-Oasis Rd.': '54.3'}\n",
      "{'King City-Oasis Rd.': '57.3'}\n",
      "{'King City-Oasis Rd.': '59.5'}\n",
      "{'King City-Oasis Rd.': '61.4'}\n",
      "{'King City-Oasis Rd.': '62.3'}\n",
      "{'King City-Oasis Rd.': '62.2'}\n",
      "{'King City-Oasis Rd.': '57.5'}\n",
      "{'King City-Oasis Rd.': '53.9'}\n",
      "{'King City-Oasis Rd.': '50.4'}\n",
      "{'King City-Oasis Rd.': '46.3'}\n",
      "{'King City-Oasis Rd.': '43.9'}\n",
      "{'King City-Oasis Rd.': '40.8'}\n",
      "{'King City-Oasis Rd.': '40.3'}\n",
      "{'King City-Oasis Rd.': '39.5'}\n",
      "{'King City-Oasis Rd.': '39.1'}\n",
      "{'King City-Oasis Rd.': '38.2'}\n",
      "{'King City-Oasis Rd.': '35.1'}\n",
      "{'King City-Oasis Rd.': '35.6'}\n",
      "{'King City-Oasis Rd.': '35.0'}\n",
      "{'King City-Oasis Rd.': '34.3'}\n",
      "{'King City-Oasis Rd.': '35.0'}\n",
      "{'King City-Oasis Rd.': '41.8'}\n",
      "{'King City-Oasis Rd.': '50.1'}\n",
      "{'King City-Oasis Rd.': '54.8'}\n",
      "{'King City-Oasis Rd.': '60.5'}\n",
      "{'King City-Oasis Rd.': '64.1'}\n",
      "{'King City-Oasis Rd.': '66.3'}\n",
      "{'King City-Oasis Rd.': '68.6'}\n",
      "{'King City-Oasis Rd.': '69.8'}\n",
      "{'King City-Oasis Rd.': '67.1'}\n",
      "{'King City-Oasis Rd.': '60.9'}\n",
      "{'King City-Oasis Rd.': '55.4'}\n",
      "{'King City-Oasis Rd.': '50.4'}\n",
      "{'King City-Oasis Rd.': '49.4'}\n",
      "{'King City-Oasis Rd.': '46.8'}\n",
      "{'King City-Oasis Rd.': '44.7'}\n",
      "{'King City-Oasis Rd.': '43.5'}\n",
      "{'King City-Oasis Rd.': '41.4'}\n",
      "{'King City-Oasis Rd.': '40.8'}\n",
      "{'King City-Oasis Rd.': '40.0'}\n",
      "{'King City-Oasis Rd.': '39.3'}\n",
      "{'King City-Oasis Rd.': '38.0'}\n",
      "{'King City-Oasis Rd.': '38.1'}\n",
      "{'King City-Oasis Rd.': '37.5'}\n",
      "{'King City-Oasis Rd.': '37.6'}\n",
      "{'King City-Oasis Rd.': '43.9'}\n",
      "{'King City-Oasis Rd.': '50.7'}\n",
      "{'King City-Oasis Rd.': '58.0'}\n",
      "{'King City-Oasis Rd.': '61.9'}\n",
      "{'King City-Oasis Rd.': '67.2'}\n",
      "{'King City-Oasis Rd.': '69.5'}\n",
      "{'King City-Oasis Rd.': '70.5'}\n",
      "{'King City-Oasis Rd.': '71.0'}\n",
      "{'King City-Oasis Rd.': '70.2'}\n",
      "{'King City-Oasis Rd.': '63.8'}\n",
      "{'King City-Oasis Rd.': '58.2'}\n",
      "{'King City-Oasis Rd.': '53.4'}\n",
      "{'King City-Oasis Rd.': '48.1'}\n",
      "{'King City-Oasis Rd.': '44.8'}\n",
      "{'King City-Oasis Rd.': '43.4'}\n",
      "{'King City-Oasis Rd.': '42.4'}\n",
      "{'King City-Oasis Rd.': '41.3'}\n",
      "{'King City-Oasis Rd.': '39.3'}\n",
      "{'King City-Oasis Rd.': '39.0'}\n",
      "{'King City-Oasis Rd.': '37.4'}\n",
      "{'King City-Oasis Rd.': '35.8'}\n",
      "{'King City-Oasis Rd.': '39.2'}\n",
      "{'King City-Oasis Rd.': '42.7'}\n",
      "{'King City-Oasis Rd.': '43.4'}\n",
      "{'King City-Oasis Rd.': '43.6'}\n",
      "{'King City-Oasis Rd.': '43.8'}\n",
      "{'King City-Oasis Rd.': '44.9'}\n",
      "{'King City-Oasis Rd.': '46.5'}\n",
      "{'King City-Oasis Rd.': '49.4'}\n",
      "{'King City-Oasis Rd.': '55.8'}\n",
      "{'King City-Oasis Rd.': '60.7'}\n",
      "{'King City-Oasis Rd.': '62.7'}\n",
      "{'King City-Oasis Rd.': '59.8'}\n",
      "{'King City-Oasis Rd.': '53.1'}\n",
      "{'King City-Oasis Rd.': '49.0'}\n",
      "{'King City-Oasis Rd.': '46.9'}\n",
      "{'King City-Oasis Rd.': '43.4'}\n",
      "{'King City-Oasis Rd.': '41.2'}\n",
      "{'King City-Oasis Rd.': '41.9'}\n",
      "{'King City-Oasis Rd.': '39.7'}\n",
      "{'King City-Oasis Rd.': '38.3'}\n",
      "{'King City-Oasis Rd.': '38.8'}\n",
      "{'King City-Oasis Rd.': '37.7'}\n",
      "{'King City-Oasis Rd.': '38.6'}\n",
      "{'King City-Oasis Rd.': '37.0'}\n",
      "{'King City-Oasis Rd.': '37.2'}\n",
      "{'King City-Oasis Rd.': '40.1'}\n",
      "{'King City-Oasis Rd.': '37.5'}\n",
      "{'King City-Oasis Rd.': '42.6'}\n",
      "{'King City-Oasis Rd.': '47.6'}\n",
      "{'King City-Oasis Rd.': '54.0'}\n",
      "{'King City-Oasis Rd.': '58.0'}\n",
      "{'King City-Oasis Rd.': '61.1'}\n",
      "{'King City-Oasis Rd.': '61.9'}\n",
      "{'King City-Oasis Rd.': '63.1'}\n",
      "{'King City-Oasis Rd.': '64.2'}\n",
      "{'King City-Oasis Rd.': '63.2'}\n",
      "{'King City-Oasis Rd.': '58.5'}\n",
      "{'King City-Oasis Rd.': '51.9'}\n",
      "{'King City-Oasis Rd.': '49.3'}\n",
      "{'King City-Oasis Rd.': '49.3'}\n",
      "{'King City-Oasis Rd.': '48.6'}\n",
      "{'King City-Oasis Rd.': '48.5'}\n",
      "{'King City-Oasis Rd.': '48.9'}\n",
      "{'King City-Oasis Rd.': '48.1'}\n",
      "{'King City-Oasis Rd.': '45.9'}\n",
      "{'King City-Oasis Rd.': '44.6'}\n",
      "{'King City-Oasis Rd.': '44.4'}\n",
      "{'King City-Oasis Rd.': '45.1'}\n",
      "{'King City-Oasis Rd.': '40.6'}\n",
      "{'King City-Oasis Rd.': '42.3'}\n",
      "{'King City-Oasis Rd.': '43.9'}\n",
      "{'King City-Oasis Rd.': '50.4'}\n",
      "{'King City-Oasis Rd.': '54.3'}\n",
      "{'King City-Oasis Rd.': '59.6'}\n",
      "{'King City-Oasis Rd.': '64.9'}\n",
      "{'King City-Oasis Rd.': '69.2'}\n",
      "{'King City-Oasis Rd.': '70.5'}\n",
      "{'King City-Oasis Rd.': '70.9'}\n",
      "{'King City-Oasis Rd.': '70.8'}\n",
      "{'King City-Oasis Rd.': '69.2'}\n",
      "{'King City-Oasis Rd.': '61.2'}\n",
      "{'King City-Oasis Rd.': '52.5'}\n",
      "{'King City-Oasis Rd.': '50.4'}\n",
      "{'King City-Oasis Rd.': '47.0'}\n",
      "{'King City-Oasis Rd.': '43.7'}\n",
      "{'King City-Oasis Rd.': '42.4'}\n",
      "{'King City-Oasis Rd.': '40.7'}\n",
      "{'King City-Oasis Rd.': '39.2'}\n",
      "{'King City-Oasis Rd.': '37.7'}\n",
      "{'King City-Oasis Rd.': '36.9'}\n",
      "{'King City-Oasis Rd.': '34.9'}\n",
      "{'King City-Oasis Rd.': '35.3'}\n",
      "{'King City-Oasis Rd.': '33.4'}\n",
      "{'King City-Oasis Rd.': '32.8'}\n",
      "{'King City-Oasis Rd.': '34.6'}\n",
      "{'King City-Oasis Rd.': '41.5'}\n",
      "{'King City-Oasis Rd.': '49.9'}\n",
      "{'King City-Oasis Rd.': '56.3'}\n",
      "{'King City-Oasis Rd.': '62.7'}\n",
      "{'King City-Oasis Rd.': '66.4'}\n",
      "{'King City-Oasis Rd.': '68.6'}\n",
      "{'King City-Oasis Rd.': '70.4'}\n",
      "{'King City-Oasis Rd.': '71.1'}\n",
      "{'King City-Oasis Rd.': '70.6'}\n",
      "{'King City-Oasis Rd.': '63.8'}\n",
      "{'King City-Oasis Rd.': '57.3'}\n",
      "{'King City-Oasis Rd.': '50.9'}\n",
      "{'King City-Oasis Rd.': '48.9'}\n",
      "{'King City-Oasis Rd.': '46.1'}\n",
      "{'King City-Oasis Rd.': '44.6'}\n",
      "{'King City-Oasis Rd.': '42.4'}\n",
      "{'King City-Oasis Rd.': '41.5'}\n",
      "{'King City-Oasis Rd.': '40.5'}\n",
      "{'King City-Oasis Rd.': '39.3'}\n",
      "{'King City-Oasis Rd.': '38.6'}\n",
      "{'King City-Oasis Rd.': '37.1'}\n",
      "{'King City-Oasis Rd.': '36.8'}\n",
      "{'King City-Oasis Rd.': '35.8'}\n",
      "{'King City-Oasis Rd.': '36.4'}\n",
      "{'King City-Oasis Rd.': '44.1'}\n",
      "{'King City-Oasis Rd.': '51.8'}\n",
      "{'King City-Oasis Rd.': '57.0'}\n",
      "{'King City-Oasis Rd.': ''}\n",
      "{'King City-Oasis Rd.': ''}\n",
      "{'King City-Oasis Rd.': ''}\n",
      "{'King City-Oasis Rd.': ''}\n",
      "{'King City-Oasis Rd.': ''}\n",
      "{'King City-Oasis Rd.': ''}\n",
      "{'King City-Oasis Rd.': ''}\n",
      "{'King City-Oasis Rd.': ''}\n",
      "{'King City-Oasis Rd.': ''}\n",
      "{'King City-Oasis Rd.': ''}\n",
      "{'King City-Oasis Rd.': ''}\n",
      "{'King City-Oasis Rd.': ''}\n",
      "{'King City-Oasis Rd.': ''}\n",
      "{'King City-Oasis Rd.': '', None: None}\n"
     ]
    }
   ],
   "source": [
    "stationair = dict()\n",
    "input_file = csv.DictReader(open('hourly(2).csv'))\n",
    "for row in input_file:\n",
    "    stationair[row['Stn Name']] = row['Air Temp (F)']\n",
    "    print(stationair)\n",
    "    \n",
    "    \n"
   ]
  },
  {
   "cell_type": "code",
   "execution_count": 22,
   "metadata": {},
   "outputs": [
    {
     "name": "stdout",
     "output_type": "stream",
     "text": [
      "OrderedDict([('Stn Id', '                                                                                                                                                                                                                                                                                                                                                                                                                                                                                                                                                                                                                                                                                                                                                                                                                                                                                                                                                                                                                                                                '), ('Stn Name', None), ('CIMIS Region', None), ('Date', None), ('Hour (PST)', None), ('Jul', None), ('ETo (in)', None), ('Precip (in)', None), ('Sol Rad (Ly/day)', None), ('Vap Pres (mBars)', None), ('Air Temp (F)', None), ('Rel Hum (%)', None), ('Dew Point (F)', None), ('Wind Speed (mph)', None), ('Wind Dir (0-360)', None), ('Soil Temp (F)', None)])\n"
     ]
    }
   ],
   "source": [
    "print(row)"
   ]
  },
  {
   "cell_type": "code",
   "execution_count": 141,
   "metadata": {},
   "outputs": [
    {
     "ename": "TypeError",
     "evalue": "'>' not supported between instances of 'str' and 'int'",
     "output_type": "error",
     "traceback": [
      "\u001b[0;31m---------------------------------------------------------------------------\u001b[0m",
      "\u001b[0;31mTypeError\u001b[0m                                 Traceback (most recent call last)",
      "\u001b[0;32m<ipython-input-141-840fb8aa684a>\u001b[0m in \u001b[0;36m<module>\u001b[0;34m\u001b[0m\n\u001b[1;32m      1\u001b[0m \u001b[0minput_file\u001b[0m \u001b[0;34m=\u001b[0m \u001b[0mcsv\u001b[0m\u001b[0;34m.\u001b[0m\u001b[0mDictReader\u001b[0m\u001b[0;34m(\u001b[0m\u001b[0mopen\u001b[0m\u001b[0;34m(\u001b[0m\u001b[0;34m'hourly(2).csv'\u001b[0m\u001b[0;34m,\u001b[0m \u001b[0mnewline\u001b[0m \u001b[0;34m=\u001b[0m \u001b[0;34m''\u001b[0m\u001b[0;34m)\u001b[0m\u001b[0;34m)\u001b[0m\u001b[0;34m\u001b[0m\u001b[0;34m\u001b[0m\u001b[0m\n\u001b[1;32m      2\u001b[0m \u001b[0;32mfor\u001b[0m \u001b[0mrow\u001b[0m \u001b[0;32min\u001b[0m \u001b[0minput_file\u001b[0m\u001b[0;34m:\u001b[0m\u001b[0;34m\u001b[0m\u001b[0;34m\u001b[0m\u001b[0m\n\u001b[0;32m----> 3\u001b[0;31m     \u001b[0;32mif\u001b[0m \u001b[0;34m(\u001b[0m\u001b[0mrow\u001b[0m\u001b[0;34m[\u001b[0m\u001b[0;34m'Wind Speed (mph)'\u001b[0m\u001b[0;34m]\u001b[0m\u001b[0;34m)\u001b[0m \u001b[0;34m>\u001b[0m \u001b[0;36m4\u001b[0m\u001b[0;34m:\u001b[0m\u001b[0;34m\u001b[0m\u001b[0;34m\u001b[0m\u001b[0m\n\u001b[0m\u001b[1;32m      4\u001b[0m         \u001b[0mprint\u001b[0m\u001b[0;34m(\u001b[0m\u001b[0mrow\u001b[0m\u001b[0;34m)\u001b[0m\u001b[0;34m\u001b[0m\u001b[0;34m\u001b[0m\u001b[0m\n",
      "\u001b[0;31mTypeError\u001b[0m: '>' not supported between instances of 'str' and 'int'"
     ]
    }
   ],
   "source": [
    "\n",
    "input_file = csv.DictReader(open('hourly(2).csv', newline = ''))\n",
    "for row in input_file:\n",
    "    if (row['Wind Speed (mph)']) > 4:\n",
    "        print(row)"
   ]
  },
  {
   "cell_type": "code",
   "execution_count": null,
   "metadata": {},
   "outputs": [],
   "source": []
  }
 ],
 "metadata": {
  "kernelspec": {
   "display_name": "Python 3",
   "language": "python",
   "name": "python3"
  },
  "language_info": {
   "codemirror_mode": {
    "name": "ipython",
    "version": 3
   },
   "file_extension": ".py",
   "mimetype": "text/x-python",
   "name": "python",
   "nbconvert_exporter": "python",
   "pygments_lexer": "ipython3",
   "version": "3.7.5"
  }
 },
 "nbformat": 4,
 "nbformat_minor": 2
}
