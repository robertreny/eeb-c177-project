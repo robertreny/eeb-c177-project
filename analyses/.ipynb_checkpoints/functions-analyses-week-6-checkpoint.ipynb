{
 "cells": [
  {
   "cell_type": "code",
   "execution_count": 4,
   "metadata": {},
   "outputs": [],
   "source": [
    "\n",
    "import numpy as np\n",
    "import warnings\n",
    "warnings.simplefilter(action = 'ignore', category = FutureWarning)\n",
    "import pandas as pd\n",
    "import matplotlib.pyplot as plt\n",
    "from collections import defaultdict"
   ]
  },
  {
   "cell_type": "code",
   "execution_count": 127,
   "metadata": {},
   "outputs": [
    {
     "name": "stderr",
     "output_type": "stream",
     "text": [
      "b'Skipping line 181: expected 16 fields, saw 26\\nSkipping line 182: expected 16 fields, saw 26\\nSkipping line 183: expected 16 fields, saw 26\\nSkipping line 184: expected 16 fields, saw 26\\nSkipping line 185: expected 16 fields, saw 26\\nSkipping line 186: expected 16 fields, saw 26\\nSkipping line 187: expected 16 fields, saw 26\\nSkipping line 188: expected 16 fields, saw 26\\nSkipping line 189: expected 16 fields, saw 26\\nSkipping line 190: expected 16 fields, saw 26\\nSkipping line 191: expected 16 fields, saw 26\\nSkipping line 192: expected 16 fields, saw 26\\nSkipping line 193: expected 16 fields, saw 26\\n'\n"
     ]
    }
   ],
   "source": [
    "data = pd.read_csv('hourly(2).csv', error_bad_lines=False, parse_dates = [['Date', 'Hour (PST)']])"
   ]
  },
  {
   "cell_type": "markdown",
   "metadata": {},
   "source": [
    "# Part 1"
   ]
  },
  {
   "cell_type": "code",
   "execution_count": 128,
   "metadata": {
    "scrolled": false
   },
   "outputs": [
    {
     "name": "stdout",
     "output_type": "stream",
     "text": [
      "    Date_Hour (PST)  Stn Id             Stn Name  CIMIS Region  Jul  ETo (in)  \\\n",
      "0     2/5/2020 0100     113  King City-Oasis Rd.  Monterey Bay   36      0.00   \n",
      "1     2/5/2020 0200     113  King City-Oasis Rd.  Monterey Bay   36      0.00   \n",
      "2     2/5/2020 0300     113  King City-Oasis Rd.  Monterey Bay   36      0.00   \n",
      "3     2/5/2020 0400     113  King City-Oasis Rd.  Monterey Bay   36      0.00   \n",
      "4     2/5/2020 0500     113  King City-Oasis Rd.  Monterey Bay   36      0.00   \n",
      "..              ...     ...                  ...           ...  ...       ...   \n",
      "174  2/12/2020 0700     113  King City-Oasis Rd.  Monterey Bay   43      0.00   \n",
      "175  2/12/2020 0800     113  King City-Oasis Rd.  Monterey Bay   43      0.00   \n",
      "176  2/12/2020 0900     113  King City-Oasis Rd.  Monterey Bay   43      0.00   \n",
      "177  2/12/2020 1000     113  King City-Oasis Rd.  Monterey Bay   43      0.01   \n",
      "178  2/12/2020 1100     113  King City-Oasis Rd.  Monterey Bay   43      0.01   \n",
      "\n",
      "     Precip (in)  Sol Rad (Ly/day)  Vap Pres (mBars)  Air Temp (F)  \\\n",
      "0            0.0                 0               4.6          33.0   \n",
      "1            0.0                 0               4.5          32.2   \n",
      "2            0.0                 0               4.5          29.6   \n",
      "3            0.0                 0               4.6          29.4   \n",
      "4            0.0                 0               4.3          28.9   \n",
      "..           ...               ...               ...           ...   \n",
      "174          0.0                 1               6.2          35.8   \n",
      "175          0.0               112               6.4          36.4   \n",
      "176          0.0               375               7.6          44.1   \n",
      "177          0.0               647               8.1          51.8   \n",
      "178          0.0               871               8.0          57.0   \n",
      "\n",
      "     Rel Hum (%)  Dew Point (F)  Wind Speed (mph)  Wind Dir (0-360)  \\\n",
      "0             72           25.1               2.1               159   \n",
      "1             73           24.4               3.0               152   \n",
      "2             81           24.6               1.6               169   \n",
      "3             83           24.8               2.4               167   \n",
      "4             81           23.7               4.3               140   \n",
      "..           ...            ...               ...               ...   \n",
      "174           88           32.5               2.2               158   \n",
      "175           88           33.1               2.6               182   \n",
      "176           77           37.4               4.5               150   \n",
      "177           62           39.2               5.8               131   \n",
      "178           50           38.8               5.5               146   \n",
      "\n",
      "     Soil Temp (F)  \n",
      "0             51.1  \n",
      "1             51.1  \n",
      "2             51.0  \n",
      "3             51.0  \n",
      "4             51.0  \n",
      "..             ...  \n",
      "174           50.9  \n",
      "175           50.9  \n",
      "176           50.9  \n",
      "177           50.9  \n",
      "178           50.9  \n",
      "\n",
      "[179 rows x 15 columns]\n"
     ]
    }
   ],
   "source": [
    "KingCitydata2020 = data.loc[data['Stn Id'] == 113] #select all rows with pomona as station (78)\n",
    "print(KingCitydata2020) "
   ]
  },
  {
   "cell_type": "code",
   "execution_count": 129,
   "metadata": {
    "scrolled": true
   },
   "outputs": [
    {
     "name": "stdout",
     "output_type": "stream",
     "text": [
      "     Sol Rad (Ly/day)             Stn Name\n",
      "6                   1  King City-Oasis Rd.\n",
      "7                  69  King City-Oasis Rd.\n",
      "8                 303  King City-Oasis Rd.\n",
      "9                 484  King City-Oasis Rd.\n",
      "10                807  King City-Oasis Rd.\n",
      "..                ...                  ...\n",
      "174                 1  King City-Oasis Rd.\n",
      "175               112  King City-Oasis Rd.\n",
      "176               375  King City-Oasis Rd.\n",
      "177               647  King City-Oasis Rd.\n",
      "178               871  King City-Oasis Rd.\n",
      "\n",
      "[87 rows x 2 columns]\n"
     ]
    }
   ],
   "source": [
    "KingCitydata2020days = KingCitydata2020.loc[(KingCitydata2020['Sol Rad (Ly/day)'] > 0) & (KingCitydata2020['Precip (in)'] == 0),['Sol Rad (Ly/day)', 'Stn Name']]\n",
    "#selecting multiple conditions and print only the columns following the last condition\n",
    "print(KingCitydata2020days)"
   ]
  },
  {
   "cell_type": "code",
   "execution_count": 130,
   "metadata": {},
   "outputs": [],
   "source": [
    "KingCitydata2020light = KingCitydata2020.loc[KingCitydata2020['Sol Rad (Ly/day)'] > 0]\n",
    "KingCitydata2020dark = KingCitydata2020.loc[KingCitydata2020['Sol Rad (Ly/day)'] == 0]"
   ]
  },
  {
   "cell_type": "code",
   "execution_count": 131,
   "metadata": {},
   "outputs": [
    {
     "name": "stdout",
     "output_type": "stream",
     "text": [
      "    Date_Hour (PST)  Stn Id             Stn Name  CIMIS Region  Jul  ETo (in)  \\\n",
      "6     2/5/2020 0700     113  King City-Oasis Rd.  Monterey Bay   36      0.00   \n",
      "7     2/5/2020 0800     113  King City-Oasis Rd.  Monterey Bay   36      0.00   \n",
      "8     2/5/2020 0900     113  King City-Oasis Rd.  Monterey Bay   36      0.00   \n",
      "9     2/5/2020 1000     113  King City-Oasis Rd.  Monterey Bay   36      0.00   \n",
      "10    2/5/2020 1100     113  King City-Oasis Rd.  Monterey Bay   36      0.01   \n",
      "..              ...     ...                  ...           ...  ...       ...   \n",
      "174  2/12/2020 0700     113  King City-Oasis Rd.  Monterey Bay   43      0.00   \n",
      "175  2/12/2020 0800     113  King City-Oasis Rd.  Monterey Bay   43      0.00   \n",
      "176  2/12/2020 0900     113  King City-Oasis Rd.  Monterey Bay   43      0.00   \n",
      "177  2/12/2020 1000     113  King City-Oasis Rd.  Monterey Bay   43      0.01   \n",
      "178  2/12/2020 1100     113  King City-Oasis Rd.  Monterey Bay   43      0.01   \n",
      "\n",
      "     Precip (in)  Sol Rad (Ly/day)  Vap Pres (mBars)  Air Temp (F)  \\\n",
      "6            0.0                 1               4.4          28.5   \n",
      "7            0.0                69               4.5          28.8   \n",
      "8            0.0               303               5.0          35.9   \n",
      "9            0.0               484               5.3          40.2   \n",
      "10           0.0               807               5.8          49.6   \n",
      "..           ...               ...               ...           ...   \n",
      "174          0.0                 1               6.2          35.8   \n",
      "175          0.0               112               6.4          36.4   \n",
      "176          0.0               375               7.6          44.1   \n",
      "177          0.0               647               8.1          51.8   \n",
      "178          0.0               871               8.0          57.0   \n",
      "\n",
      "     Rel Hum (%)  Dew Point (F)  Wind Speed (mph)  Wind Dir (0-360)  \\\n",
      "6             83           24.0               2.5               143   \n",
      "7             84           24.7               2.2               180   \n",
      "8             70           27.0               3.1               131   \n",
      "9             62           28.4               4.1               143   \n",
      "10            48           30.9               3.1               143   \n",
      "..           ...            ...               ...               ...   \n",
      "174           88           32.5               2.2               158   \n",
      "175           88           33.1               2.6               182   \n",
      "176           77           37.4               4.5               150   \n",
      "177           62           39.2               5.8               131   \n",
      "178           50           38.8               5.5               146   \n",
      "\n",
      "     Soil Temp (F)  \n",
      "6             50.9  \n",
      "7             50.9  \n",
      "8             50.9  \n",
      "9             50.8  \n",
      "10            50.8  \n",
      "..             ...  \n",
      "174           50.9  \n",
      "175           50.9  \n",
      "176           50.9  \n",
      "177           50.9  \n",
      "178           50.9  \n",
      "\n",
      "[87 rows x 15 columns]\n",
      "55.045977011494266\n"
     ]
    }
   ],
   "source": [
    "print(KingCitydata2020light)\n",
    "averagedaytemp = np.mean(KingCitydata2020light['Air Temp (F)'], axis = 0)\n",
    "print(averagedaytemp)"
   ]
  },
  {
   "cell_type": "code",
   "execution_count": 132,
   "metadata": {},
   "outputs": [
    {
     "data": {
      "text/plain": [
       "[<matplotlib.lines.Line2D at 0x7fefa61d58d0>]"
      ]
     },
     "execution_count": 132,
     "metadata": {},
     "output_type": "execute_result"
    },
    {
     "data": {
      "image/png": "[encoded data removed]",
      "text/plain": [
       "<Figure size 432x288 with 1 Axes>"
      ]
     },
     "metadata": {
      "needs_background": "light"
     },
     "output_type": "display_data"
    }
   ],
   "source": [
    "plt.plot(KingCitydata2020light['Date_Hour (PST)'], KingCitydata2020light['Air Temp (F)']) \n",
    "# plot of temp over time, in this case only light data"
   ]
  },
  {
   "cell_type": "code",
   "execution_count": 133,
   "metadata": {},
   "outputs": [
    {
     "ename": "TypeError",
     "evalue": "where() missing 1 required positional argument: 'condition'",
     "output_type": "error",
     "traceback": [
      "\u001b[0;31m---------------------------------------------------------------------------\u001b[0m",
      "\u001b[0;31mTypeError\u001b[0m                                 Traceback (most recent call last)",
      "\u001b[0;32m<ipython-input-133-6d6020d579fa>\u001b[0m in \u001b[0;36m<module>\u001b[0;34m\u001b[0m\n\u001b[0;32m----> 1\u001b[0;31m \u001b[0mdata\u001b[0m\u001b[0;34m[\u001b[0m\u001b[0;34m'temp_difference'\u001b[0m\u001b[0;34m]\u001b[0m \u001b[0;34m=\u001b[0m \u001b[0mnp\u001b[0m\u001b[0;34m.\u001b[0m\u001b[0mwhere\u001b[0m\u001b[0;34m(\u001b[0m\u001b[0;34m)\u001b[0m\u001b[0;34m\u001b[0m\u001b[0;34m\u001b[0m\u001b[0m\n\u001b[0m",
      "\u001b[0;32m<__array_function__ internals>\u001b[0m in \u001b[0;36mwhere\u001b[0;34m(*args, **kwargs)\u001b[0m\n",
      "\u001b[0;31mTypeError\u001b[0m: where() missing 1 required positional argument: 'condition'"
     ]
    }
   ],
   "source": [
    "data['temp_difference'] = np.where()"
   ]
  },
  {
   "cell_type": "code",
   "execution_count": 50,
   "metadata": {},
   "outputs": [],
   "source": [
    "def plotting_light_dark_tempscimis(filename, stationID):\n",
    "    ''' Return plots of temp over time.\n",
    "    First loads in data, error_bad_lines = False ignores bad lines, parse_dates combines date and hour columns into single column\n",
    "    Second selects only data referring to stationID\n",
    "    Creates two subsets from above using sol radiance > 0 or =0\n",
    "    finally plots first using a empty fig, leaving in third plot for future\n",
    "    Want to add in third plot of soil vs air temp\n",
    "    \n",
    "    @param filename = n-dimensional array of values\n",
    "    @param stationID = stationID of location of interest\n",
    "    \n",
    "    Examples\n",
    "    ----------\n",
    "    >>>>>>>>> \n",
    "    ''' \n",
    "    data = pd.read_csv(filename, error_bad_lines=False, parse_dates = [['Date', 'Hour (PST)']])\n",
    "    specificcity = data.loc[data['Stn Id'] == stationID]\n",
    "    specificcitylighttemps = specificcity.loc[specificcity['Sol Rad (Ly/day)'] > 0]\n",
    "    specificcitydarktemps = specificcity.loc[specificcity['Sol Rad (Ly/day)'] == 0]\n",
    "    warnings.simplefilter(action = 'ignore', category = FutureWarning) #ignorning future warning not sure what it is\n",
    "    fig = plt.figure(figsize = (10.0, 3.0))\n",
    "    axes1 = fig.add_subplot(1,3,1) \n",
    "    axes2 = fig.add_subplot(1,3,2)\n",
    "    axes3 = fig.add_subplot(1,3,3)\n",
    "    axes1.plot(specificcitylighttemps['Date_Hour (PST)'], specificcitylighttemps['Air Temp (F)'])\n",
    "    axes2.plot(specificcitydarktemps['Date_Hour (PST)'], specificcitydarktemps['Air Temp (F)'])\n",
    "    axes3.plot()\n",
    "    plt.show()"
   ]
  },
  {
   "cell_type": "code",
   "execution_count": 151,
   "metadata": {
    "collapsed": true
   },
   "outputs": [
    {
     "name": "stderr",
     "output_type": "stream",
     "text": [
      "b'Skipping line 181: expected 16 fields, saw 26\\nSkipping line 182: expected 16 fields, saw 26\\nSkipping line 183: expected 16 fields, saw 26\\nSkipping line 184: expected 16 fields, saw 26\\nSkipping line 185: expected 16 fields, saw 26\\nSkipping line 186: expected 16 fields, saw 26\\nSkipping line 187: expected 16 fields, saw 26\\nSkipping line 188: expected 16 fields, saw 26\\nSkipping line 189: expected 16 fields, saw 26\\nSkipping line 190: expected 16 fields, saw 26\\nSkipping line 191: expected 16 fields, saw 26\\nSkipping line 192: expected 16 fields, saw 26\\nSkipping line 193: expected 16 fields, saw 26\\n'\n"
     ]
    },
    {
     "data": {
      "image/png": "[encoded data removed]",
      "text/plain": [
       "<Figure size 720x216 with 3 Axes>"
      ]
     },
     "metadata": {
      "needs_background": "light"
     },
     "output_type": "display_data"
    }
   ],
   "source": [
    "#testing realm\n",
    "#data = pd.read_csv('hourly(2).csv', error_bad_lines=False, parse_dates = [['Date', 'Hour (PST)']])\n",
    "#specificcity = data.loc[data['Stn Id'] == 113]\n",
    "#specificcitylighttemps = specificcity.loc[specificcity['Sol Rad (Ly/day)'] > 0]\n",
    "#specificcitydarktemps = specificcity.loc[specificcity['Sol Rad (Ly/day)'] == 0]\n",
    "#fig = plt.figure(figsize = (10.0, 3.0)) \n",
    "#axes1 = fig.add_subplot(1,3,1) \n",
    "#axes2 = fig.add_subplot(1,3,2) \n",
    "#axes3 = fig.add_subplot(1,3,3)\n",
    "#axes1.plot(specificcitylighttemps['Date_Hour (PST)'], specificcitylighttemps['Air Temp (F)']) \n",
    "#axes2.plot(specificcitydarktemps['Date_Hour (PST)'], specificcitydarktemps['Air Temp (F)'])\n",
    "#axes3.plot()\n",
    "#plt.show()"
   ]
  },
  {
   "cell_type": "code",
   "execution_count": 51,
   "metadata": {
    "scrolled": true
   },
   "outputs": [
    {
     "name": "stderr",
     "output_type": "stream",
     "text": [
      "b'Skipping line 181: expected 16 fields, saw 26\\nSkipping line 182: expected 16 fields, saw 26\\nSkipping line 183: expected 16 fields, saw 26\\nSkipping line 184: expected 16 fields, saw 26\\nSkipping line 185: expected 16 fields, saw 26\\nSkipping line 186: expected 16 fields, saw 26\\nSkipping line 187: expected 16 fields, saw 26\\nSkipping line 188: expected 16 fields, saw 26\\nSkipping line 189: expected 16 fields, saw 26\\nSkipping line 190: expected 16 fields, saw 26\\nSkipping line 191: expected 16 fields, saw 26\\nSkipping line 192: expected 16 fields, saw 26\\nSkipping line 193: expected 16 fields, saw 26\\n'\n"
     ]
    },
    {
     "data": {
      "image/png": "[encoded data removed]",
      "text/plain": [
       "<Figure size 720x216 with 3 Axes>"
      ]
     },
     "metadata": {
      "needs_background": "light"
     },
     "output_type": "display_data"
    }
   ],
   "source": [
    "plotting_light_dark_tempscimis('hourly(2).csv', 113)"
   ]
  },
  {
   "cell_type": "markdown",
   "metadata": {},
   "source": [
    "# Part 2"
   ]
  },
  {
   "cell_type": "code",
   "execution_count": null,
   "metadata": {
    "scrolled": false
   },
   "outputs": [],
   "source": [
    "import csv\n",
    "input_file = csv.DictReader(open('hourly(2).csv'))\n",
    "for row in input_file:\n",
    "    print(row['Stn Id']) "
   ]
  },
  {
   "cell_type": "code",
   "execution_count": null,
   "metadata": {},
   "outputs": [],
   "source": [
    "stationair = dict()\n",
    "input_file = csv.DictReader(open('hourly(2).csv'))\n",
    "for row in input_file:\n",
    "    stationair[row['Stn Name']] = row['Air Temp (F)'], row['Sol Rad (Ly/day)']\n",
    "    print(stationair)\n",
    "    \n",
    "    \n"
   ]
  },
  {
   "cell_type": "code",
   "execution_count": null,
   "metadata": {
    "scrolled": true
   },
   "outputs": [],
   "source": [
    "print(row)"
   ]
  },
  {
   "cell_type": "code",
   "execution_count": null,
   "metadata": {
    "scrolled": true
   },
   "outputs": [],
   "source": [
    "\n",
    "input_file = csv.DictReader(open('hourly(2).csv'), quoting=csv.QUOTE_NONNUMERIC, dialect=\"excel\")\n",
    "for row in input_file:\n",
    "    print(row)"
   ]
  },
  {
   "cell_type": "code",
   "execution_count": null,
   "metadata": {},
   "outputs": [],
   "source": [
    "emptydic = {}\n",
    "only_dark_dict = dict()\n",
    "input_file = csv.DictReader(open('hourly(2).csv'))\n",
    "for row in input_file:\n",
    "    only_dark_dict['Date'] = (row['Sol Rad (Ly/day)'] == '0')\n",
    "emptydic[only_dark_dict['Date']]\n",
    "print(emptydic)\n",
    "# getting every date value that has no sol radiance\n",
    "# had to work with strings, could  not figure out conversion to int or float objects\n",
    "#even using quoting = csv.QUOTENONNUMERIC didnt work"
   ]
  },
  {
   "cell_type": "code",
   "execution_count": null,
   "metadata": {},
   "outputs": [],
   "source": []
  },
  {
   "cell_type": "markdown",
   "metadata": {},
   "source": [
    "# Part 3"
   ]
  },
  {
   "cell_type": "code",
   "execution_count": 69,
   "metadata": {},
   "outputs": [],
   "source": [
    "class Data(object):\n",
    "\n",
    "    def __str__(self):\n",
    "        return 'str'\n",
    "\n",
    "    def __repr__(self):\n",
    "        return 'repr'"
   ]
  },
  {
   "cell_type": "code",
   "execution_count": 99,
   "metadata": {},
   "outputs": [
    {
     "data": {
      "text/plain": [
       "'0      4.6\\n1      4.5\\n2      4.5\\n3      4.6\\n4      4.3\\n      ... \\n174    6.2\\n175    6.4\\n176    7.6\\n177    8.1\\n178    8.0\\nName: Vap Pres (mBars), Length: 179, dtype: float64 0      51.1\\n1      51.1\\n2      51.0\\n3      51.0\\n4      51.0\\n       ... \\n174    50.9\\n175    50.9\\n176    50.9\\n177    50.9\\n178    50.9\\nName: Soil Temp (F), Length: 179, dtype: float64'"
      ]
     },
     "execution_count": 99,
     "metadata": {},
     "output_type": "execute_result"
    }
   ],
   "source": [
    "'%s %r' % ((data['Vap Pres (mBars)']), (data['Soil Temp (F)']))"
   ]
  },
  {
   "cell_type": "code",
   "execution_count": 10,
   "metadata": {},
   "outputs": [
    {
     "name": "stdout",
     "output_type": "stream",
     "text": [
      "0      51.1\n",
      "1      51.1\n",
      "2      51.0\n",
      "3      51.0\n",
      "4      51.0\n",
      "       ... \n",
      "174    50.9\n",
      "175    50.9\n",
      "176    50.9\n",
      "177    50.9\n",
      "178    50.9\n",
      "Name: Soil Temp (F), Length: 179, dtype: float64 0      4.6\n",
      "1      4.5\n",
      "2      4.5\n",
      "3      4.6\n",
      "4      4.3\n",
      "      ... \n",
      "174    6.2\n",
      "175    6.4\n",
      "176    7.6\n",
      "177    8.1\n",
      "178    8.0\n",
      "Name: Vap Pres (mBars), Length: 179, dtype: float64\n"
     ]
    },
    {
     "ename": "TypeError",
     "evalue": "write() argument must be str, not None",
     "output_type": "error",
     "traceback": [
      "\u001b[0;31m---------------------------------------------------------------------------\u001b[0m",
      "\u001b[0;31mTypeError\u001b[0m                                 Traceback (most recent call last)",
      "\u001b[0;32m<ipython-input-10-3e0fb740ad58>\u001b[0m in \u001b[0;36m<module>\u001b[0;34m\u001b[0m\n\u001b[1;32m      4\u001b[0m \u001b[0mf\u001b[0m \u001b[0;34m=\u001b[0m \u001b[0mopen\u001b[0m\u001b[0;34m(\u001b[0m\u001b[0;34m'file.txt'\u001b[0m\u001b[0;34m,\u001b[0m \u001b[0;34m'w'\u001b[0m\u001b[0;34m)\u001b[0m\u001b[0;34m\u001b[0m\u001b[0;34m\u001b[0m\u001b[0m\n\u001b[1;32m      5\u001b[0m \u001b[0;34m\u001b[0m\u001b[0m\n\u001b[0;32m----> 6\u001b[0;31m \u001b[0mf\u001b[0m\u001b[0;34m.\u001b[0m\u001b[0mwrite\u001b[0m\u001b[0;34m(\u001b[0m\u001b[0mprint\u001b[0m\u001b[0;34m(\u001b[0m\u001b[0mtext\u001b[0m\u001b[0;34m)\u001b[0m\u001b[0;34m)\u001b[0m\u001b[0;34m\u001b[0m\u001b[0;34m\u001b[0m\u001b[0m\n\u001b[0m\u001b[1;32m      7\u001b[0m \u001b[0;34m\u001b[0m\u001b[0m\n\u001b[1;32m      8\u001b[0m \u001b[0mf\u001b[0m\u001b[0;34m.\u001b[0m\u001b[0mclose\u001b[0m\u001b[0;34m(\u001b[0m\u001b[0;34m)\u001b[0m\u001b[0;34m\u001b[0m\u001b[0;34m\u001b[0m\u001b[0m\n",
      "\u001b[0;31mTypeError\u001b[0m: write() argument must be str, not None"
     ]
    }
   ],
   "source": [
    "'Hello, {}'.format('rob') \n",
    "text = '{} {}'.format((data['Soil Temp (F)']), (data['Vap Pres (mBars)']))\n",
    "# changing order of columns using {} to hold locations and fill after .formt()\n",
    "f = open('file.txt', 'w')\n",
    "#creates an empty file.txt \n",
    "f.write(print(text))\n",
    "#writes into thef text file the print out of text defined in line 2\n",
    "\n",
    "f.close()\n",
    "#closes operation "
   ]
  },
  {
   "cell_type": "code",
   "execution_count": 79,
   "metadata": {},
   "outputs": [
    {
     "name": "stderr",
     "output_type": "stream",
     "text": [
      "b'Skipping line 181: expected 16 fields, saw 26\\nSkipping line 182: expected 16 fields, saw 26\\nSkipping line 183: expected 16 fields, saw 26\\nSkipping line 184: expected 16 fields, saw 26\\nSkipping line 185: expected 16 fields, saw 26\\nSkipping line 186: expected 16 fields, saw 26\\nSkipping line 187: expected 16 fields, saw 26\\nSkipping line 188: expected 16 fields, saw 26\\nSkipping line 189: expected 16 fields, saw 26\\nSkipping line 190: expected 16 fields, saw 26\\nSkipping line 191: expected 16 fields, saw 26\\nSkipping line 192: expected 16 fields, saw 26\\nSkipping line 193: expected 16 fields, saw 26\\n'\n"
     ]
    }
   ],
   "source": [
    "data = pd.read_csv('hourly(2).csv', error_bad_lines=False, parse_dates = [['Date', 'Hour (PST)']])"
   ]
  },
  {
   "cell_type": "code",
   "execution_count": 85,
   "metadata": {},
   "outputs": [
    {
     "name": "stdout",
     "output_type": "stream",
     "text": [
      "0      113\n",
      "1      113\n",
      "2      113\n",
      "3      113\n",
      "4      113\n",
      "      ... \n",
      "174    113\n",
      "175    113\n",
      "176    113\n",
      "177    113\n",
      "178    113\n",
      "Name: Stn Id, Length: 179, dtype: int64\n"
     ]
    }
   ],
   "source": [
    "print(data['Stn Id'])"
   ]
  },
  {
   "cell_type": "code",
   "execution_count": null,
   "metadata": {},
   "outputs": [],
   "source": []
  }
 ],
 "metadata": {
  "kernelspec": {
   "display_name": "Python 3",
   "language": "python",
   "name": "python3"
  },
  "language_info": {
   "codemirror_mode": {
    "name": "ipython",
    "version": 3
   },
   "file_extension": ".py",
   "mimetype": "text/x-python",
   "name": "python",
   "nbconvert_exporter": "python",
   "pygments_lexer": "ipython3",
   "version": "3.7.5"
  }
 },
 "nbformat": 4,
 "nbformat_minor": 2
}
